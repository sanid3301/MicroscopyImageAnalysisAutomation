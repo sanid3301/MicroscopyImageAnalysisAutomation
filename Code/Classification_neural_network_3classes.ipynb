{
 "cells": [
  {
   "cell_type": "markdown",
   "id": "e4d1fb67",
   "metadata": {},
   "source": [
    "# Imports"
   ]
  },
  {
   "cell_type": "code",
   "execution_count": 125,
   "id": "8001edac",
   "metadata": {},
   "outputs": [],
   "source": [
    "import os # to access the file names of the images\n",
    "import cv2     # for readcapturing images\n",
    "import math   # for mathematical operations\n",
    "import pickle\n",
    "import numpy as np    # for mathematical operations\n",
    "import pandas as pd #\n",
    "import tensorflow as tf #machine learning libraries \n",
    "import matplotlib.pyplot as plt    # for plotting the images\n",
    "%matplotlib inline\n",
    "from skimage.transform import resize   # for resizing images\n",
    "\n",
    "from tqdm.notebook import tqdm # to show progress in an user friendly manner"
   ]
  },
  {
   "cell_type": "code",
   "execution_count": 126,
   "id": "b7a5c58d",
   "metadata": {},
   "outputs": [],
   "source": [
    "\n",
    "import math   # for mathematical operations\n",
    "from skimage.transform                   import resize   # for resizing images\n",
    "from tensorflow.keras.models             import Sequential\n",
    "from tensorflow.keras.preprocessing      import image   # for preprocessing the images\n",
    "from tensorflow.keras.applications.vgg16 import VGG16\n",
    "from tensorflow.keras.applications.vgg16 import preprocess_input\n",
    "from tensorflow.keras.layers             import Dense, InputLayer, Dropout, MaxPooling2D\n",
    "from tensorflow.keras.utils              import to_categorical\n",
    "from tensorflow.keras.layers import Dense,GRU,LSTM,Embedding\n",
    "from tensorflow.keras.optimizers import Adam\n",
    "from tensorflow.keras.layers import SpatialDropout1D,Dropout,Bidirectional,Conv1D,Conv2D,GlobalMaxPooling1D,MaxPooling1D,MaxPool2D,Flatten\n",
    "from tensorflow.keras.callbacks import ModelCheckpoint, TensorBoard, Callback, EarlyStopping\n",
    "from tensorflow.keras.utils import to_categorical\n",
    "from keras.regularizers import l2\n",
    "from sklearn.metrics import confusion_matrix\n",
    "import cv2     # for capturing images\n",
    "\n",
    "\n",
    "reloadStorage = True # if false then doesn't look at new data and only trains using existing data"
   ]
  },
  {
   "cell_type": "code",
   "execution_count": 127,
   "id": "656d6287",
   "metadata": {},
   "outputs": [
    {
     "name": "stdout",
     "output_type": "stream",
     "text": [
      "1 circular unprocessed files found\n",
      "48 other unprocessed files found\n"
     ]
    },
    {
     "data": {
      "application/vnd.jupyter.widget-view+json": {
       "model_id": "e0e315ae29d74263896466d29b133a0e",
       "version_major": 2,
       "version_minor": 0
      },
      "text/plain": [
       "  0%|          | 0/47 [00:00<?, ?it/s]"
      ]
     },
     "metadata": {},
     "output_type": "display_data"
    },
    {
     "name": "stdout",
     "output_type": "stream",
     "text": [
      "Converted into np array\n",
      "Preprocessing completed\n",
      "Base model imposed\n",
      "All done\n",
      "1 rod unprocessed files found\n"
     ]
    }
   ],
   "source": [
    "\n",
    "def load_files(directory, unprocessed_files):\n",
    "    if len(unprocessed_files) <= 1:\n",
    "            return;\n",
    "    processed_files = pickle.load(open('../train/vgg/'+directory+'/processed_files.pickle',\"rb\"))\n",
    "    image_array = []\n",
    "    for img_name in tqdm(unprocessed_files):\n",
    "        img = cv2.imread(\"../train/image/\"+directory+\"/\"+img_name)\n",
    "        if type(img) == type(None):\n",
    "            print(\"---------------------------------------------------------\",img_name)\n",
    "            img = np.zeros([224,224,3])\n",
    "        res_img = resize(img, preserve_range=True, output_shape=(224,224)).astype(int)\n",
    "        image_array.append(res_img)\n",
    "    image_nparray = np.array(image_array) # with dimension changed\n",
    "    del image_array\n",
    "    print(\"Converted into np array\")\n",
    "    image_nparray = preprocess_input(image_nparray) # preprocessed\n",
    "    print(\"Preprocessing completed\")\n",
    "    base_model = VGG16(weights='imagenet', include_top=False, input_shape=(224, 224, 3))\n",
    "    image_nparray = base_model.predict(image_nparray)\n",
    "    print(\"Base model imposed\")\n",
    "    \n",
    "    preprocessed_files = pickle.load(open('../train/vgg/'+directory+'/preprocessed.pickle',\"rb\"))\n",
    "    if preprocessed_files.shape[0] == 0:\n",
    "        preprocessed_files = image_nparray\n",
    "    else:\n",
    "        preprocessed_files = np.concatenate((preprocessed_files,image_nparray),axis=0)\n",
    "    pickle.dump(preprocessed_files,open('../train/vgg/'+directory+'/preprocessed.pickle',\"wb\"))\n",
    "    processed_files += unprocessed_files\n",
    "    pickle.dump(processed_files,open('../train/vgg/'+directory+'/processed_files.pickle',\"wb\"))\n",
    "    print(\"All done\")\n",
    "\n",
    "if(reloadStorage):\n",
    "    for dirs in os.listdir(\"../train/image\"):\n",
    "        processed_files = pickle.load(open('../train/vgg/'+dirs+'/processed_files.pickle',\"rb\"))\n",
    "        image_list = os.listdir(\"../train/image/\"+dirs)\n",
    "        unprocessed_files = [img for img in image_list if img not in processed_files]\n",
    "        print(len(unprocessed_files), dirs,\"unprocessed files found\")\n",
    "        \n",
    "        process_batch_size = 1024\n",
    "        batch = []\n",
    "        for i in range(len(unprocessed_files)):\n",
    "            batch.append(unprocessed_files[i])\n",
    "            if i%process_batch_size == 0 or i == len(unprocessed_files)-1:\n",
    "                load_files(dirs,batch)\n",
    "                batch = []\n"
   ]
  },
  {
   "cell_type": "code",
   "execution_count": null,
   "id": "03f8d534",
   "metadata": {},
   "outputs": [],
   "source": [
    "\n"
   ]
  },
  {
   "cell_type": "markdown",
   "id": "9e8dd74c",
   "metadata": {},
   "source": [
    "# Train Files Generation"
   ]
  },
  {
   "cell_type": "code",
   "execution_count": 128,
   "id": "e62140b8",
   "metadata": {},
   "outputs": [
    {
     "name": "stdout",
     "output_type": "stream",
     "text": [
      "preprocessed files loaded\n",
      "X and Y created\n",
      "Permutation generated\n",
      "All Done\n"
     ]
    }
   ],
   "source": [
    "if(reloadStorage):\n",
    "    circular_preprocessed = pickle.load(open('../train/vgg/circular/preprocessed.pickle',\"rb\"))\n",
    "    rod_preprocessed = pickle.load(open('../train/vgg/rod/preprocessed.pickle',\"rb\"))\n",
    "    other_preprocessed = pickle.load(open('../train/vgg/other/preprocessed.pickle',\"rb\"))\n",
    "    circular_y = np.zeros((circular_preprocessed.shape[0],1))\n",
    "    rod_y = np.ones((rod_preprocessed.shape[0],1))\n",
    "    other_y = np.ones((other_preprocessed.shape[0],1)) * 2\n",
    "    \n",
    "    print(\"preprocessed files loaded\")\n",
    "    \n",
    "    X = np.concatenate((circular_preprocessed,rod_preprocessed,other_preprocessed),axis=0)\n",
    "    Y = np.concatenate((circular_y,rod_y,other_y),axis=0)\n",
    "    \n",
    "    del circular_preprocessed\n",
    "    del rod_preprocessed\n",
    "    del other_preprocessed\n",
    "    \n",
    "    p = np.random.permutation(Y.shape[0])\n",
    "    X = X[p]\n",
    "    Y = Y[p]\n",
    "    \n",
    "    print(\"X and Y created\")\n",
    "    \n",
    "    train_frac = 0.9\n",
    "    test_frac  = 0.1\n",
    "    train_loc = int(train_frac*Y.shape[0])\n",
    "    X_train = X[:train_loc]\n",
    "    X_test = X[train_loc:]\n",
    "\n",
    "    Y_train = to_categorical(Y[:train_loc],num_classes=3)\n",
    "    Y_test = to_categorical(Y[train_loc:],num_classes=3)\n",
    "#     Y_train = Y[:train_loc]\n",
    "#     Y_test = Y[train_loc:]\n",
    "    \n",
    "    print(\"Permutation generated\")\n",
    "    \n",
    "    pickle.dump(X_train,open('../train/X_train.pickle',\"wb\"))\n",
    "    pickle.dump(X_test,open('../train/X_test.pickle',\"wb\"))\n",
    "    pickle.dump(Y_train,open('../train/Y_train.pickle',\"wb\"))\n",
    "    pickle.dump(Y_test,open('../train/Y_test.pickle',\"wb\"))\n",
    "    print(\"All Done\")\n",
    "else:\n",
    "    X_train = pickle.load(open('../train/X_train.pickle',\"rb\"))\n",
    "    X_test = pickle.load(open('../train/X_test.pickle',\"rb\"))\n",
    "    Y_train = pickle.load(open('../train/Y_train.pickle',\"rb\"))\n",
    "    Y_test = pickle.load(open('../train/Y_test.pickle',\"rb\"))"
   ]
  },
  {
   "cell_type": "code",
   "execution_count": 129,
   "id": "dc98173c",
   "metadata": {},
   "outputs": [
    {
     "name": "stdout",
     "output_type": "stream",
     "text": [
      "(513, 7, 7, 512)\n",
      "(58, 7, 7, 512)\n",
      "(513, 3)\n",
      "(58, 3)\n"
     ]
    }
   ],
   "source": [
    "print(X_train.shape)\n",
    "print(X_test.shape)\n",
    "print(Y_train.shape)\n",
    "print(Y_test.shape)"
   ]
  },
  {
   "cell_type": "markdown",
   "id": "4721477c",
   "metadata": {},
   "source": [
    "# Model Segment"
   ]
  },
  {
   "cell_type": "code",
   "execution_count": 130,
   "id": "f47452c0",
   "metadata": {
    "scrolled": false
   },
   "outputs": [
    {
     "name": "stdout",
     "output_type": "stream",
     "text": [
      "Model: \"sequential_9\"\n",
      "_________________________________________________________________\n",
      "Layer (type)                 Output Shape              Param #   \n",
      "=================================================================\n",
      "conv2d_9 (Conv2D)            (None, 7, 7, 32)          409632    \n",
      "_________________________________________________________________\n",
      "max_pooling2d_9 (MaxPooling2 (None, 3, 3, 32)          0         \n",
      "_________________________________________________________________\n",
      "dropout_26 (Dropout)         (None, 3, 3, 32)          0         \n",
      "_________________________________________________________________\n",
      "flatten_9 (Flatten)          (None, 288)               0         \n",
      "_________________________________________________________________\n",
      "dense_26 (Dense)             (None, 90)                26010     \n",
      "_________________________________________________________________\n",
      "dropout_27 (Dropout)         (None, 90)                0         \n",
      "_________________________________________________________________\n",
      "dense_27 (Dense)             (None, 32)                2912      \n",
      "_________________________________________________________________\n",
      "dropout_28 (Dropout)         (None, 32)                0         \n",
      "_________________________________________________________________\n",
      "dense_28 (Dense)             (None, 3)                 99        \n",
      "=================================================================\n",
      "Total params: 438,653\n",
      "Trainable params: 438,653\n",
      "Non-trainable params: 0\n",
      "_________________________________________________________________\n"
     ]
    },
    {
     "name": "stderr",
     "output_type": "stream",
     "text": [
      "C:\\Users\\Sanidhya\\anaconda3\\lib\\site-packages\\keras\\optimizer_v2\\optimizer_v2.py:355: UserWarning: The `lr` argument is deprecated, use `learning_rate` instead.\n",
      "  warnings.warn(\n"
     ]
    }
   ],
   "source": [
    "model = Sequential()\n",
    "model.add(Conv2D(32,(5,5),padding='same',activation='relu',input_shape=(7,7,512)))\n",
    "model.add(MaxPooling2D(pool_size=(2, 2)))\n",
    "model.add(Dropout(0.4))\n",
    "model.add(Flatten())\n",
    "model.add(Dense(units=90, activation='relu'))\n",
    "model.add(Dropout(0.3))\n",
    "model.add(Dense(units=32, activation='sigmoid'))\n",
    "model.add(Dropout(0.3))\n",
    "model.add(Dense(units=3, activation='sigmoid'))    # output layer\n",
    "model.compile(loss='binary_crossentropy',optimizer=Adam(lr=0.0001),metrics=['accuracy'])\n",
    "model.summary()"
   ]
  },
  {
   "cell_type": "code",
   "execution_count": 131,
   "id": "fc4fb9d0",
   "metadata": {
    "scrolled": true
   },
   "outputs": [
    {
     "name": "stdout",
     "output_type": "stream",
     "text": [
      "Epoch 1/75\n",
      "1/1 [==============================] - 2s 2s/step - loss: 0.6913 - accuracy: 0.3684 - val_loss: 0.5851 - val_accuracy: 0.7069\n",
      "Epoch 2/75\n",
      "1/1 [==============================] - 1s 855ms/step - loss: 0.6714 - accuracy: 0.4308 - val_loss: 0.5618 - val_accuracy: 0.8103\n",
      "Epoch 3/75\n",
      "1/1 [==============================] - 1s 810ms/step - loss: 0.6577 - accuracy: 0.4172 - val_loss: 0.5427 - val_accuracy: 0.8103\n",
      "Epoch 4/75\n",
      "1/1 [==============================] - 1s 830ms/step - loss: 0.6452 - accuracy: 0.4464 - val_loss: 0.5276 - val_accuracy: 0.8103\n",
      "Epoch 5/75\n",
      "1/1 [==============================] - 1s 845ms/step - loss: 0.6253 - accuracy: 0.5224 - val_loss: 0.5150 - val_accuracy: 0.8103\n",
      "Epoch 6/75\n",
      "1/1 [==============================] - 1s 838ms/step - loss: 0.5995 - accuracy: 0.5127 - val_loss: 0.5042 - val_accuracy: 0.8103\n",
      "Epoch 7/75\n",
      "1/1 [==============================] - 1s 825ms/step - loss: 0.6060 - accuracy: 0.5439 - val_loss: 0.4942 - val_accuracy: 0.8103\n",
      "Epoch 8/75\n",
      "1/1 [==============================] - 1s 824ms/step - loss: 0.6011 - accuracy: 0.5595 - val_loss: 0.4843 - val_accuracy: 0.8448\n",
      "Epoch 9/75\n",
      "1/1 [==============================] - 1s 833ms/step - loss: 0.5763 - accuracy: 0.6101 - val_loss: 0.4744 - val_accuracy: 0.8621\n",
      "Epoch 10/75\n",
      "1/1 [==============================] - 1s 857ms/step - loss: 0.5740 - accuracy: 0.5770 - val_loss: 0.4644 - val_accuracy: 0.8621\n",
      "Epoch 11/75\n",
      "1/1 [==============================] - 1s 994ms/step - loss: 0.5636 - accuracy: 0.6082 - val_loss: 0.4546 - val_accuracy: 0.8621\n",
      "Epoch 12/75\n",
      "1/1 [==============================] - 1s 869ms/step - loss: 0.5580 - accuracy: 0.5887 - val_loss: 0.4449 - val_accuracy: 0.8621\n",
      "Epoch 13/75\n",
      "1/1 [==============================] - 1s 843ms/step - loss: 0.5363 - accuracy: 0.6433 - val_loss: 0.4353 - val_accuracy: 0.8621\n",
      "Epoch 14/75\n",
      "1/1 [==============================] - 1s 808ms/step - loss: 0.5416 - accuracy: 0.6472 - val_loss: 0.4261 - val_accuracy: 0.8621\n",
      "Epoch 15/75\n",
      "1/1 [==============================] - 1s 801ms/step - loss: 0.5264 - accuracy: 0.6745 - val_loss: 0.4173 - val_accuracy: 0.8621\n",
      "Epoch 16/75\n",
      "1/1 [==============================] - 1s 808ms/step - loss: 0.5270 - accuracy: 0.6706 - val_loss: 0.4090 - val_accuracy: 0.8621\n",
      "Epoch 17/75\n",
      "1/1 [==============================] - 1s 823ms/step - loss: 0.5286 - accuracy: 0.6628 - val_loss: 0.4007 - val_accuracy: 0.8621\n",
      "Epoch 18/75\n",
      "1/1 [==============================] - 1s 844ms/step - loss: 0.5014 - accuracy: 0.7212 - val_loss: 0.3929 - val_accuracy: 0.8621\n",
      "Epoch 19/75\n",
      "1/1 [==============================] - 1s 793ms/step - loss: 0.4945 - accuracy: 0.7271 - val_loss: 0.3857 - val_accuracy: 0.8621\n",
      "Epoch 20/75\n",
      "1/1 [==============================] - 1s 807ms/step - loss: 0.4914 - accuracy: 0.7154 - val_loss: 0.3794 - val_accuracy: 0.8621\n",
      "Epoch 21/75\n",
      "1/1 [==============================] - 1s 777ms/step - loss: 0.5062 - accuracy: 0.6940 - val_loss: 0.3735 - val_accuracy: 0.8621\n",
      "Epoch 22/75\n",
      "1/1 [==============================] - 1s 799ms/step - loss: 0.4959 - accuracy: 0.7212 - val_loss: 0.3681 - val_accuracy: 0.8793\n",
      "Epoch 23/75\n",
      "1/1 [==============================] - 1s 793ms/step - loss: 0.4813 - accuracy: 0.7446 - val_loss: 0.3631 - val_accuracy: 0.8793\n",
      "Epoch 24/75\n",
      "1/1 [==============================] - 1s 771ms/step - loss: 0.4703 - accuracy: 0.7641 - val_loss: 0.3584 - val_accuracy: 0.8793\n",
      "Epoch 25/75\n",
      "1/1 [==============================] - 1s 784ms/step - loss: 0.4766 - accuracy: 0.7407 - val_loss: 0.3540 - val_accuracy: 0.8966\n",
      "Epoch 26/75\n",
      "1/1 [==============================] - 1s 778ms/step - loss: 0.4618 - accuracy: 0.7739 - val_loss: 0.3498 - val_accuracy: 0.8966\n",
      "Epoch 27/75\n",
      "1/1 [==============================] - 1s 793ms/step - loss: 0.4673 - accuracy: 0.7622 - val_loss: 0.3455 - val_accuracy: 0.8966\n",
      "Epoch 28/75\n",
      "1/1 [==============================] - 1s 816ms/step - loss: 0.4645 - accuracy: 0.7583 - val_loss: 0.3415 - val_accuracy: 0.8966\n",
      "Epoch 29/75\n",
      "1/1 [==============================] - 1s 816ms/step - loss: 0.4544 - accuracy: 0.7680 - val_loss: 0.3374 - val_accuracy: 0.9138\n",
      "Epoch 30/75\n",
      "1/1 [==============================] - 1s 805ms/step - loss: 0.4570 - accuracy: 0.7700 - val_loss: 0.3337 - val_accuracy: 0.9138\n",
      "Epoch 31/75\n",
      "1/1 [==============================] - 1s 780ms/step - loss: 0.4488 - accuracy: 0.7914 - val_loss: 0.3299 - val_accuracy: 0.9138\n",
      "Epoch 32/75\n",
      "1/1 [==============================] - 1s 718ms/step - loss: 0.4567 - accuracy: 0.7914 - val_loss: 0.3262 - val_accuracy: 0.9138\n",
      "Epoch 33/75\n",
      "1/1 [==============================] - 1s 669ms/step - loss: 0.4339 - accuracy: 0.7914 - val_loss: 0.3224 - val_accuracy: 0.8966\n",
      "Epoch 34/75\n",
      "1/1 [==============================] - 1s 699ms/step - loss: 0.4474 - accuracy: 0.7817 - val_loss: 0.3190 - val_accuracy: 0.9138\n",
      "Epoch 35/75\n",
      "1/1 [==============================] - 1s 729ms/step - loss: 0.4269 - accuracy: 0.7914 - val_loss: 0.3156 - val_accuracy: 0.9138\n",
      "Epoch 36/75\n",
      "1/1 [==============================] - 1s 667ms/step - loss: 0.4417 - accuracy: 0.7875 - val_loss: 0.3124 - val_accuracy: 0.9138\n",
      "Epoch 37/75\n",
      "1/1 [==============================] - 1s 668ms/step - loss: 0.4271 - accuracy: 0.7934 - val_loss: 0.3091 - val_accuracy: 0.9138\n",
      "Epoch 38/75\n",
      "1/1 [==============================] - 1s 686ms/step - loss: 0.4157 - accuracy: 0.8187 - val_loss: 0.3056 - val_accuracy: 0.9138\n",
      "Epoch 39/75\n",
      "1/1 [==============================] - 1s 655ms/step - loss: 0.4190 - accuracy: 0.8207 - val_loss: 0.3021 - val_accuracy: 0.9483\n",
      "Epoch 40/75\n",
      "1/1 [==============================] - 1s 678ms/step - loss: 0.4172 - accuracy: 0.8031 - val_loss: 0.2983 - val_accuracy: 0.9483\n",
      "Epoch 41/75\n",
      "1/1 [==============================] - 1s 677ms/step - loss: 0.4108 - accuracy: 0.8051 - val_loss: 0.2946 - val_accuracy: 0.9483\n",
      "Epoch 42/75\n",
      "1/1 [==============================] - 1s 714ms/step - loss: 0.4082 - accuracy: 0.8129 - val_loss: 0.2910 - val_accuracy: 0.9483\n",
      "Epoch 43/75\n",
      "1/1 [==============================] - 1s 749ms/step - loss: 0.4088 - accuracy: 0.8129 - val_loss: 0.2876 - val_accuracy: 0.9483\n",
      "Epoch 44/75\n",
      "1/1 [==============================] - 1s 683ms/step - loss: 0.4009 - accuracy: 0.8226 - val_loss: 0.2845 - val_accuracy: 0.9483\n",
      "Epoch 45/75\n",
      "1/1 [==============================] - 1s 722ms/step - loss: 0.3946 - accuracy: 0.8304 - val_loss: 0.2814 - val_accuracy: 0.9483\n",
      "Epoch 46/75\n",
      "1/1 [==============================] - 1s 709ms/step - loss: 0.3920 - accuracy: 0.8538 - val_loss: 0.2784 - val_accuracy: 0.9483\n",
      "Epoch 47/75\n",
      "1/1 [==============================] - 1s 650ms/step - loss: 0.3906 - accuracy: 0.8480 - val_loss: 0.2757 - val_accuracy: 0.9483\n",
      "Epoch 48/75\n",
      "1/1 [==============================] - 1s 650ms/step - loss: 0.3842 - accuracy: 0.8655 - val_loss: 0.2734 - val_accuracy: 0.9483\n",
      "Epoch 49/75\n",
      "1/1 [==============================] - 1s 658ms/step - loss: 0.3907 - accuracy: 0.8226 - val_loss: 0.2713 - val_accuracy: 0.9483\n",
      "Epoch 50/75\n",
      "1/1 [==============================] - 1s 634ms/step - loss: 0.3807 - accuracy: 0.8460 - val_loss: 0.2693 - val_accuracy: 0.9483\n",
      "Epoch 51/75\n",
      "1/1 [==============================] - 1s 654ms/step - loss: 0.3806 - accuracy: 0.8499 - val_loss: 0.2674 - val_accuracy: 0.9483\n",
      "Epoch 52/75\n",
      "1/1 [==============================] - 1s 620ms/step - loss: 0.3786 - accuracy: 0.8674 - val_loss: 0.2657 - val_accuracy: 0.9483\n",
      "Epoch 53/75\n",
      "1/1 [==============================] - 1s 628ms/step - loss: 0.3795 - accuracy: 0.8226 - val_loss: 0.2641 - val_accuracy: 0.9483\n",
      "Epoch 54/75\n",
      "1/1 [==============================] - 1s 633ms/step - loss: 0.3800 - accuracy: 0.8441 - val_loss: 0.2626 - val_accuracy: 0.9483\n",
      "Epoch 55/75\n",
      "1/1 [==============================] - 1s 639ms/step - loss: 0.3703 - accuracy: 0.8616 - val_loss: 0.2613 - val_accuracy: 0.9483\n",
      "Epoch 56/75\n",
      "1/1 [==============================] - 1s 645ms/step - loss: 0.3678 - accuracy: 0.8655 - val_loss: 0.2601 - val_accuracy: 0.9483\n",
      "Epoch 57/75\n",
      "1/1 [==============================] - 1s 634ms/step - loss: 0.3629 - accuracy: 0.8947 - val_loss: 0.2590 - val_accuracy: 0.9483\n",
      "Epoch 58/75\n",
      "1/1 [==============================] - 1s 660ms/step - loss: 0.3654 - accuracy: 0.8655 - val_loss: 0.2580 - val_accuracy: 0.9483\n",
      "Epoch 59/75\n"
     ]
    },
    {
     "name": "stdout",
     "output_type": "stream",
     "text": [
      "1/1 [==============================] - 1s 670ms/step - loss: 0.3544 - accuracy: 0.8947 - val_loss: 0.2569 - val_accuracy: 0.9483\n",
      "Epoch 60/75\n",
      "1/1 [==============================] - 1s 638ms/step - loss: 0.3623 - accuracy: 0.8694 - val_loss: 0.2560 - val_accuracy: 0.9483\n",
      "Epoch 61/75\n",
      "1/1 [==============================] - 1s 650ms/step - loss: 0.3594 - accuracy: 0.8596 - val_loss: 0.2552 - val_accuracy: 0.9483\n",
      "Epoch 62/75\n",
      "1/1 [==============================] - 1s 680ms/step - loss: 0.3550 - accuracy: 0.8791 - val_loss: 0.2543 - val_accuracy: 0.9483\n",
      "Epoch 63/75\n",
      "1/1 [==============================] - 1s 676ms/step - loss: 0.3583 - accuracy: 0.8791 - val_loss: 0.2535 - val_accuracy: 0.9483\n",
      "Epoch 64/75\n",
      "1/1 [==============================] - 1s 744ms/step - loss: 0.3504 - accuracy: 0.8928 - val_loss: 0.2526 - val_accuracy: 0.9483\n",
      "Epoch 65/75\n",
      "1/1 [==============================] - 1s 665ms/step - loss: 0.3556 - accuracy: 0.8869 - val_loss: 0.2517 - val_accuracy: 0.9483\n",
      "Epoch 66/75\n",
      "1/1 [==============================] - 1s 629ms/step - loss: 0.3494 - accuracy: 0.8947 - val_loss: 0.2507 - val_accuracy: 0.9483\n",
      "Epoch 67/75\n",
      "1/1 [==============================] - 1s 680ms/step - loss: 0.3568 - accuracy: 0.8674 - val_loss: 0.2497 - val_accuracy: 0.9483\n",
      "Epoch 68/75\n",
      "1/1 [==============================] - 1s 673ms/step - loss: 0.3411 - accuracy: 0.8869 - val_loss: 0.2488 - val_accuracy: 0.9483\n",
      "Epoch 69/75\n",
      "1/1 [==============================] - 1s 644ms/step - loss: 0.3517 - accuracy: 0.8908 - val_loss: 0.2479 - val_accuracy: 0.9483\n",
      "Epoch 70/75\n",
      "1/1 [==============================] - 1s 645ms/step - loss: 0.3502 - accuracy: 0.8889 - val_loss: 0.2471 - val_accuracy: 0.9483\n",
      "Epoch 71/75\n",
      "1/1 [==============================] - 1s 616ms/step - loss: 0.3430 - accuracy: 0.9064 - val_loss: 0.2463 - val_accuracy: 0.9483\n",
      "Epoch 72/75\n",
      "1/1 [==============================] - 1s 608ms/step - loss: 0.3370 - accuracy: 0.8889 - val_loss: 0.2456 - val_accuracy: 0.9483\n",
      "Epoch 73/75\n",
      "1/1 [==============================] - 1s 679ms/step - loss: 0.3305 - accuracy: 0.9084 - val_loss: 0.2448 - val_accuracy: 0.9483\n",
      "Epoch 74/75\n",
      "1/1 [==============================] - 1s 716ms/step - loss: 0.3316 - accuracy: 0.9006 - val_loss: 0.2441 - val_accuracy: 0.9483\n",
      "Epoch 75/75\n",
      "1/1 [==============================] - 1s 701ms/step - loss: 0.3243 - accuracy: 0.9220 - val_loss: 0.2435 - val_accuracy: 0.9483\n",
      "Wall time: 56.3 s\n"
     ]
    }
   ],
   "source": [
    "%%time\n",
    "\n",
    "batch_size = 1024\n",
    "epoch = 75\n",
    "\n",
    "history=model.fit(X_train, Y_train, validation_data=(X_test, Y_test),epochs=epoch, batch_size=batch_size, verbose=1)\n"
   ]
  },
  {
   "cell_type": "code",
   "execution_count": 132,
   "id": "3305d932",
   "metadata": {},
   "outputs": [
    {
     "name": "stdout",
     "output_type": "stream",
     "text": [
      "dict_keys(['loss', 'accuracy', 'val_loss', 'val_accuracy'])\n"
     ]
    },
    {
     "data": {
      "image/png": "[encoded data removed]",
      "text/plain": [
       "<Figure size 432x288 with 1 Axes>"
      ]
     },
     "metadata": {
      "needs_background": "light"
     },
     "output_type": "display_data"
    },
    {
     "data": {
      "image/png": "[encoded data removed]",
      "text/plain": [
       "<Figure size 432x288 with 1 Axes>"
      ]
     },
     "metadata": {
      "needs_background": "light"
     },
     "output_type": "display_data"
    }
   ],
   "source": [
    "print(history.history.keys())\n",
    "# summarize history for accuracy\n",
    "plt.plot(history.history['accuracy'])\n",
    "plt.plot(history.history['val_accuracy'])\n",
    "plt.title('model accuracy')\n",
    "plt.ylabel('accuracy')\n",
    "plt.xlabel('epoch')\n",
    "plt.legend(['train', 'test'], loc='upper left')\n",
    "plt.show()\n",
    "# summarize history for loss\n",
    "plt.plot(history.history['loss'])\n",
    "plt.plot(history.history['val_loss'])\n",
    "plt.title('model loss')\n",
    "plt.ylabel('loss')\n",
    "plt.xlabel('epoch')\n",
    "plt.legend(['train', 'test'], loc='upper left')\n",
    "plt.show()"
   ]
  },
  {
   "cell_type": "code",
   "execution_count": 133,
   "id": "2cb451bf",
   "metadata": {},
   "outputs": [
    {
     "name": "stdout",
     "output_type": "stream",
     "text": [
      "-------------Confusion Matrix-----------\n",
      " [[23  0  2]\n",
      " [ 0 24  0]\n",
      " [ 1  0  8]] \n",
      "----------------------------------------\n",
      "Test accuracy    0.9482758620689655\n"
     ]
    }
   ],
   "source": [
    "###### Confusion Matrix ##########\n",
    "# cm = confusion_matrix(np.argmax(model.predict(X_test),axis=1) , np.argmax(Y_test,axis=1))\n",
    "# sum = np.sum(cm)\n",
    "# accuracy = (cm[0][0] + cm[1][1])/sum\n",
    "# print('-------------Confusion Matrix-----------\\n', cm,'\\n----------------------------------------')\n",
    "# print('Test accuracy   ',accuracy)\n",
    "\n",
    "cm = confusion_matrix(np.argmax(model.predict(X_test),axis=1) , np.argmax(Y_test,axis=1))\n",
    "sum = np.sum(cm)\n",
    "accuracy = (cm[0][0] + cm[1][1]+ cm[2][2])/sum\n",
    "print('-------------Confusion Matrix-----------\\n', cm,'\\n----------------------------------------')\n",
    "print('Test accuracy   ',accuracy)"
   ]
  },
  {
   "cell_type": "code",
   "execution_count": 134,
   "id": "7a08c353",
   "metadata": {},
   "outputs": [
    {
     "name": "stdout",
     "output_type": "stream",
     "text": [
      "INFO:tensorflow:Assets written to: ../model\\assets\n"
     ]
    }
   ],
   "source": [
    "model.save(\"../model\")"
   ]
  },
  {
   "cell_type": "code",
   "execution_count": 135,
   "id": "ae84c6f6",
   "metadata": {},
   "outputs": [
    {
     "name": "stdout",
     "output_type": "stream",
     "text": [
      "[[0.84286714 0.11955526 0.08674946]\n",
      " [0.8060187  0.18756863 0.08731446]\n",
      " [0.1231235  0.8229718  0.15887368]\n",
      " [0.13145614 0.8061861  0.13499203]\n",
      " [0.8209887  0.11641073 0.10654807]\n",
      " [0.8472862  0.15940934 0.07119238]\n",
      " [0.11475489 0.77763987 0.11279902]\n",
      " [0.11250147 0.80329555 0.1503264 ]\n",
      " [0.3518505  0.23317984 0.6056457 ]\n",
      " [0.792974   0.17534497 0.11326462]\n",
      " [0.14625451 0.85374916 0.19806051]\n",
      " [0.7121278  0.13612491 0.21443024]\n",
      " [0.3169387  0.22768298 0.5706125 ]\n",
      " [0.11712593 0.81601954 0.15246359]\n",
      " [0.5090255  0.18041304 0.4626766 ]\n",
      " [0.8706001  0.17441583 0.06251132]\n",
      " [0.34468067 0.29421678 0.596288  ]\n",
      " [0.7781587  0.13725707 0.12589067]\n",
      " [0.11464012 0.8133514  0.15175608]\n",
      " [0.12083825 0.79309636 0.12471291]\n",
      " [0.13275868 0.82341385 0.15660363]\n",
      " [0.09722009 0.80530876 0.15311134]\n",
      " [0.36203617 0.2506412  0.5950694 ]\n",
      " [0.53973264 0.17828271 0.39890215]\n",
      " [0.35638946 0.23476136 0.5694224 ]\n",
      " [0.64609957 0.1943174  0.32719967]\n",
      " [0.1348561  0.8172799  0.14652914]\n",
      " [0.839617   0.15991724 0.06716594]\n",
      " [0.11815429 0.8075249  0.14108461]\n",
      " [0.73992205 0.14767265 0.24838051]\n",
      " [0.11481458 0.7864033  0.12120646]\n",
      " [0.89016306 0.19149506 0.05537525]\n",
      " [0.8160892  0.2145342  0.08790299]\n",
      " [0.8745153  0.17663369 0.05273539]\n",
      " [0.2698992  0.28227192 0.63502765]\n",
      " [0.861892   0.13850677 0.07579714]\n",
      " [0.28102386 0.27507642 0.6082438 ]\n",
      " [0.83249795 0.10650119 0.09573478]\n",
      " [0.7873513  0.1280308  0.23718211]\n",
      " [0.11596888 0.8160733  0.15433323]\n",
      " [0.13329759 0.81196654 0.12986839]\n",
      " [0.1349288  0.8257467  0.15740448]\n",
      " [0.81057644 0.14409009 0.09704116]\n",
      " [0.8552939  0.18888515 0.07117635]\n",
      " [0.11484611 0.80473804 0.14593968]\n",
      " [0.8693942  0.12146229 0.08827871]\n",
      " [0.16248092 0.6130902  0.19201046]\n",
      " [0.29198927 0.25610057 0.6145487 ]\n",
      " [0.12640238 0.80021214 0.11903501]\n",
      " [0.14278522 0.8477663  0.18734756]\n",
      " [0.42310214 0.22915724 0.60032964]\n",
      " [0.11011118 0.797975   0.13666597]\n",
      " [0.11686391 0.81212425 0.15465188]\n",
      " [0.11457843 0.8152498  0.15382028]\n",
      " [0.11383563 0.8071667  0.14272764]\n",
      " [0.701408   0.13969687 0.28451502]\n",
      " [0.8546236  0.1763658  0.06219319]\n",
      " [0.83273983 0.15925378 0.09125856]]\n",
      "[0 0 1 1 0 0 1 1 2 0 1 0 2 1 0 0 2 0 1 1 1 1 2 0 2 0 1 0 1 0 1 0 0 0 2 0 2\n",
      " 0 0 1 1 1 0 0 1 0 1 2 1 1 2 1 1 1 1 0 0 0]\n"
     ]
    }
   ],
   "source": [
    "Y =model.predict(X_test) \n",
    "print(Y)\n",
    "print(np.argmax(Y,axis=1))"
   ]
  },
  {
   "cell_type": "code",
   "execution_count": null,
   "id": "a9c26ab9",
   "metadata": {},
   "outputs": [],
   "source": []
  },
  {
   "cell_type": "markdown",
   "id": "687b546d",
   "metadata": {},
   "source": [
    "# Classification operation"
   ]
  },
  {
   "cell_type": "markdown",
   "id": "b828ebad",
   "metadata": {},
   "source": [
    "##### Clean Input Cache\n",
    "Cleans the input cache of batches of input for processing"
   ]
  },
  {
   "cell_type": "code",
   "execution_count": 117,
   "id": "b3e02e3b",
   "metadata": {},
   "outputs": [],
   "source": [
    "a=[]\n",
    "a=np.array(a)\n",
    "pickle.dump(a,open('../cache/Input'+'/preprocessed.pickle',\"wb\"))"
   ]
  },
  {
   "cell_type": "markdown",
   "id": "09c260e9",
   "metadata": {},
   "source": [
    "#### Helper Functions"
   ]
  },
  {
   "cell_type": "code",
   "execution_count": 118,
   "id": "3f18a108",
   "metadata": {},
   "outputs": [],
   "source": [
    "\n",
    "def preprocess_files(directory, unprocessed_files):\n",
    "    print(\"Length of unprocessed files is\",len(unprocessed_files))\n",
    "    if len(unprocessed_files) <= 1:\n",
    "            return;\n",
    "    image_array = []\n",
    "    for img_name in tqdm(unprocessed_files):\n",
    "        img = cv2.imread(\"../Input/\"+img_name)\n",
    "        if type(img) == type(None):\n",
    "            print(\"---------------------------------------------------------\",img_name)\n",
    "            img = np.zeros([224,224,3])\n",
    "        res_img = resize(img, preserve_range=True, output_shape=(224,224)).astype(int)\n",
    "        image_array.append(res_img)\n",
    "    image_nparray = np.array(image_array) # Convert to numpy array with dimension changed\n",
    "    del image_array\n",
    "    print(\"Converted into np array\")\n",
    "    image_nparray = preprocess_input(image_nparray) # preprocessed\n",
    "    print(\"Preprocessing completed\")\n",
    "    base_model = VGG16(weights='imagenet', include_top=False, input_shape=(224, 224, 3))\n",
    "    image_nparray = base_model.predict(image_nparray)\n",
    "    print(\"Base model imposed\")\n",
    "    \n",
    "    preprocessed_files = pickle.load(open('../cache/'+directory+'/preprocessed.pickle',\"rb\"))\n",
    "    \n",
    "    if preprocessed_files.shape[0] == 0:\n",
    "        preprocessed_files = image_nparray\n",
    "    else:\n",
    "        preprocessed_files = np.concatenate((preprocessed_files,image_nparray),axis=0)\n",
    "    pickle.dump(preprocessed_files,open('../cache/'+directory+'/preprocessed.pickle',\"wb\"))\n",
    "    print(\"All done\")"
   ]
  },
  {
   "cell_type": "markdown",
   "id": "3c4768f7",
   "metadata": {},
   "source": [
    "#### Create a list of image files\n",
    "Assuming all images are of square shape"
   ]
  },
  {
   "cell_type": "code",
   "execution_count": 119,
   "id": "8e05dba7",
   "metadata": {},
   "outputs": [
    {
     "name": "stdout",
     "output_type": "stream",
     "text": [
      "There are total 5 input files\n",
      "Length of unprocessed files is 5\n"
     ]
    },
    {
     "data": {
      "application/vnd.jupyter.widget-view+json": {
       "model_id": "6a5f983f861e4d1dadb0fad679a4afc8",
       "version_major": 2,
       "version_minor": 0
      },
      "text/plain": [
       "  0%|          | 0/5 [00:00<?, ?it/s]"
      ]
     },
     "metadata": {},
     "output_type": "display_data"
    },
    {
     "name": "stdout",
     "output_type": "stream",
     "text": [
      "Converted into np array\n",
      "Preprocessing completed\n",
      "Base model imposed\n",
      "All done\n"
     ]
    }
   ],
   "source": [
    "\n",
    "unprocessed_input_files = [img for img in os.listdir(\"../Input\")]\n",
    "print(\"There are total\",len(unprocessed_input_files),\"input files\")\n",
    "\n",
    "process_batch_size = 1024\n",
    "batch = []\n",
    "for i in range(len(unprocessed_input_files)):\n",
    "    batch.append(unprocessed_input_files[i])\n",
    "    if (i+1)%process_batch_size == 0 or i == len(unprocessed_input_files)-1:\n",
    "        preprocess_files(\"Input\",batch)\n",
    "        batch = []\n"
   ]
  },
  {
   "cell_type": "code",
   "execution_count": 120,
   "id": "53b438c2",
   "metadata": {},
   "outputs": [
    {
     "name": "stdout",
     "output_type": "stream",
     "text": [
      "input files loaded\n"
     ]
    }
   ],
   "source": [
    "\n",
    "X = pickle.load(open('../cache/Input/preprocessed.pickle',\"rb\"))\n",
    "\n",
    "print(\"input files loaded\")\n",
    "\n",
    "model = tf.keras.models.load_model(\"../model\")\n"
   ]
  },
  {
   "cell_type": "code",
   "execution_count": 121,
   "id": "b8ba4411",
   "metadata": {},
   "outputs": [
    {
     "data": {
      "text/plain": [
       "(5, 7, 7, 512)"
      ]
     },
     "execution_count": 121,
     "metadata": {},
     "output_type": "execute_result"
    }
   ],
   "source": [
    "X.shape"
   ]
  },
  {
   "cell_type": "code",
   "execution_count": 122,
   "id": "931f03a6",
   "metadata": {},
   "outputs": [
    {
     "name": "stdout",
     "output_type": "stream",
     "text": [
      "Output generated\n",
      "Total no of circular cells 3\n",
      "Total no of rod cells      2\n",
      "Total no of other cells    0\n"
     ]
    }
   ],
   "source": [
    "Y = model.predict(X) \n",
    "Y = np.argmax(Y,axis=1)\n",
    "\n",
    "print(\"Output generated\")\n",
    "\n",
    "print(\"Total no of circular cells\", np.sum(Y==0))\n",
    "\n",
    "print(\"Total no of rod cells     \", np.sum(Y==1))\n",
    "\n",
    "print(\"Total no of other cells   \", np.sum(Y==2))"
   ]
  },
  {
   "cell_type": "code",
   "execution_count": 123,
   "id": "736bc403",
   "metadata": {},
   "outputs": [],
   "source": [
    "savefile=[[\"Filename\",\"Cell Type\"]]\n",
    "for i in range(len(unprocessed_input_files)):\n",
    "    row = []\n",
    "    row.append(unprocessed_input_files[i])\n",
    "    if Y[i] == 0:\n",
    "        row.append(\"Circular\")\n",
    "    elif Y[i] == 1:\n",
    "        row.append(\"Rod\")\n",
    "    else:\n",
    "        row.append(\"Other\")\n",
    "    savefile.append(row)\n",
    "    \n",
    "savefile = np.array(savefile)\n"
   ]
  },
  {
   "cell_type": "code",
   "execution_count": 124,
   "id": "f5850eb7",
   "metadata": {},
   "outputs": [],
   "source": [
    "savename=\"Output\"\n",
    "\n",
    "\n",
    "np.savetxt(\"../Output/\"+savename+\".csv\", \n",
    "           savefile,\n",
    "           delimiter =\", \", \n",
    "           fmt ='% s')"
   ]
  },
  {
   "cell_type": "code",
   "execution_count": null,
   "id": "6f5cad49",
   "metadata": {},
   "outputs": [],
   "source": []
  },
  {
   "cell_type": "code",
   "execution_count": null,
   "id": "e927b393",
   "metadata": {},
   "outputs": [],
   "source": []
  }
 ],
 "metadata": {
  "kernelspec": {
   "display_name": "Python 3",
   "language": "python",
   "name": "python3"
  },
  "language_info": {
   "codemirror_mode": {
    "name": "ipython",
    "version": 3
   },
   "file_extension": ".py",
   "mimetype": "text/x-python",
   "name": "python",
   "nbconvert_exporter": "python",
   "pygments_lexer": "ipython3",
   "version": "3.8.8"
  }
 },
 "nbformat": 4,
 "nbformat_minor": 5
}
