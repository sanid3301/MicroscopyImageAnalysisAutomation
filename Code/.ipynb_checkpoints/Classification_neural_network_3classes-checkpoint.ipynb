{
 "cells": [
  {
   "cell_type": "markdown",
   "id": "e4d1fb67",
   "metadata": {},
   "source": [
    "# Imports"
   ]
  },
  {
   "cell_type": "code",
   "execution_count": 1,
   "id": "8001edac",
   "metadata": {},
   "outputs": [],
   "source": [
    "import os # to access the file names of the images\n",
    "import cv2     # for readcapturing images\n",
    "import math   # for mathematical operations\n",
    "import pickle\n",
    "import numpy as np    # for mathematical operations\n",
    "import pandas as pd #\n",
    "import tensorflow as tf #machine learning libraries \n",
    "import matplotlib.pyplot as plt    # for plotting the images\n",
    "%matplotlib inline\n",
    "from skimage.transform import resize   # for resizing images\n",
    "\n",
    "from tqdm.notebook import tqdm # to show progress in an user friendly manner"
   ]
  },
  {
   "cell_type": "code",
   "execution_count": 2,
   "id": "b7a5c58d",
   "metadata": {},
   "outputs": [],
   "source": [
    "\n",
    "import math   # for mathematical operations\n",
    "from skimage.transform                   import resize   # for resizing images\n",
    "from tensorflow.keras.models             import Sequential\n",
    "from tensorflow.keras.preprocessing      import image   # for preprocessing the images\n",
    "from tensorflow.keras.applications.vgg16 import VGG16\n",
    "from tensorflow.keras.applications.vgg16 import preprocess_input\n",
    "from tensorflow.keras.layers             import Dense, InputLayer, Dropout, MaxPooling2D\n",
    "from tensorflow.keras.utils              import to_categorical\n",
    "from tensorflow.keras.layers import Dense,GRU,LSTM,Embedding\n",
    "from tensorflow.keras.optimizers import Adam\n",
    "from tensorflow.keras.layers import SpatialDropout1D,Dropout,Bidirectional,Conv1D,Conv2D,GlobalMaxPooling1D,MaxPooling1D,MaxPool2D,Flatten\n",
    "from tensorflow.keras.callbacks import ModelCheckpoint, TensorBoard, Callback, EarlyStopping\n",
    "from tensorflow.keras.utils import to_categorical\n",
    "from keras.regularizers import l2\n",
    "from sklearn.metrics import confusion_matrix\n",
    "import cv2     # for capturing images\n",
    "\n",
    "\n",
    "reloadStorage = True # if false then doesn't look at new data and only trains using existing data"
   ]
  },
  {
   "cell_type": "code",
   "execution_count": 3,
   "id": "656d6287",
   "metadata": {},
   "outputs": [
    {
     "name": "stdout",
     "output_type": "stream",
     "text": [
      "202 circular unprocessed files found\n"
     ]
    },
    {
     "data": {
      "application/vnd.jupyter.widget-view+json": {
       "model_id": "9a22eb5f146242cd971af010f4b2368b",
       "version_major": 2,
       "version_minor": 0
      },
      "text/plain": [
       "  0%|          | 0/201 [00:00<?, ?it/s]"
      ]
     },
     "metadata": {},
     "output_type": "display_data"
    },
    {
     "name": "stdout",
     "output_type": "stream",
     "text": [
      "Converted into np array\n",
      "Preprocessing completed\n",
      "Base model imposed\n",
      "All done\n",
      "100 other unprocessed files found\n"
     ]
    },
    {
     "data": {
      "application/vnd.jupyter.widget-view+json": {
       "model_id": "9c86d4ddcd404245957953c5953fb628",
       "version_major": 2,
       "version_minor": 0
      },
      "text/plain": [
       "  0%|          | 0/99 [00:00<?, ?it/s]"
      ]
     },
     "metadata": {},
     "output_type": "display_data"
    },
    {
     "name": "stdout",
     "output_type": "stream",
     "text": [
      "Converted into np array\n",
      "Preprocessing completed\n",
      "Base model imposed\n",
      "All done\n",
      "203 rod unprocessed files found\n"
     ]
    },
    {
     "data": {
      "application/vnd.jupyter.widget-view+json": {
       "model_id": "883db8caa98a4a7aad5fec4436c648bb",
       "version_major": 2,
       "version_minor": 0
      },
      "text/plain": [
       "  0%|          | 0/202 [00:00<?, ?it/s]"
      ]
     },
     "metadata": {},
     "output_type": "display_data"
    },
    {
     "name": "stdout",
     "output_type": "stream",
     "text": [
      "Converted into np array\n",
      "Preprocessing completed\n",
      "Base model imposed\n",
      "All done\n"
     ]
    }
   ],
   "source": [
    "\n",
    "def load_files(directory, unprocessed_files):\n",
    "    if len(unprocessed_files) <= 1:\n",
    "            return;\n",
    "    processed_files = pickle.load(open('../train/vgg/'+directory+'/processed_files.pickle',\"rb\"))\n",
    "    image_array = []\n",
    "    for img_name in tqdm(unprocessed_files):\n",
    "        img = cv2.imread(\"../train/image/\"+directory+\"/\"+img_name)\n",
    "        if type(img) == type(None):\n",
    "            print(\"---------------------------------------------------------\",img_name)\n",
    "            img = np.zeros([224,224,3])\n",
    "        res_img = resize(img, preserve_range=True, output_shape=(224,224)).astype(int)\n",
    "        image_array.append(res_img)\n",
    "    image_nparray = np.array(image_array) # with dimension changed\n",
    "    del image_array\n",
    "    print(\"Converted into np array\")\n",
    "    image_nparray = preprocess_input(image_nparray) # preprocessed\n",
    "    print(\"Preprocessing completed\")\n",
    "    base_model = VGG16(weights='imagenet', include_top=False, input_shape=(224, 224, 3))\n",
    "    image_nparray = base_model.predict(image_nparray)\n",
    "    print(\"Base model imposed\")\n",
    "    \n",
    "    preprocessed_files = pickle.load(open('../train/vgg/'+directory+'/preprocessed.pickle',\"rb\"))\n",
    "    if preprocessed_files.shape[0] == 0:\n",
    "        preprocessed_files = image_nparray\n",
    "    else:\n",
    "        preprocessed_files = np.concatenate((preprocessed_files,image_nparray),axis=0)\n",
    "    pickle.dump(preprocessed_files,open('../train/vgg/'+directory+'/preprocessed.pickle',\"wb\"))\n",
    "    processed_files += unprocessed_files\n",
    "    pickle.dump(processed_files,open('../train/vgg/'+directory+'/processed_files.pickle',\"wb\"))\n",
    "    print(\"All done\")\n",
    "\n",
    "if(reloadStorage):\n",
    "    for dirs in os.listdir(\"../train/image\"):\n",
    "        processed_files = pickle.load(open('../train/vgg/'+dirs+'/processed_files.pickle',\"rb\"))\n",
    "        image_list = os.listdir(\"../train/image/\"+dirs)\n",
    "        unprocessed_files = [img for img in image_list if img not in processed_files]\n",
    "        print(len(unprocessed_files), dirs,\"unprocessed files found\")\n",
    "        \n",
    "        process_batch_size = 1024\n",
    "        batch = []\n",
    "        for i in range(len(unprocessed_files)):\n",
    "            batch.append(unprocessed_files[i])\n",
    "            if i%process_batch_size == 0 or i == len(unprocessed_files)-1:\n",
    "                load_files(dirs,batch)\n",
    "                batch = []\n"
   ]
  },
  {
   "cell_type": "code",
   "execution_count": null,
   "id": "03f8d534",
   "metadata": {},
   "outputs": [],
   "source": [
    "\n"
   ]
  },
  {
   "cell_type": "markdown",
   "id": "9e8dd74c",
   "metadata": {},
   "source": [
    "# Train Files Generation"
   ]
  },
  {
   "cell_type": "code",
   "execution_count": 4,
   "id": "e62140b8",
   "metadata": {},
   "outputs": [
    {
     "name": "stdout",
     "output_type": "stream",
     "text": [
      "preprocessed files loaded\n",
      "X and Y created\n",
      "Permutation generated\n",
      "All Done\n"
     ]
    }
   ],
   "source": [
    "if(reloadStorage):\n",
    "    circular_preprocessed = pickle.load(open('../train/vgg/circular/preprocessed.pickle',\"rb\"))\n",
    "    rod_preprocessed = pickle.load(open('../train/vgg/rod/preprocessed.pickle',\"rb\"))\n",
    "    other_preprocessed = pickle.load(open('../train/vgg/other/preprocessed.pickle',\"rb\"))\n",
    "    circular_y = np.zeros((circular_preprocessed.shape[0],1))\n",
    "    rod_y = np.ones((rod_preprocessed.shape[0],1))\n",
    "    other_y = np.ones((other_preprocessed.shape[0],1)) * 2\n",
    "    \n",
    "    print(\"preprocessed files loaded\")\n",
    "    \n",
    "    X = np.concatenate((circular_preprocessed,rod_preprocessed,other_preprocessed),axis=0)\n",
    "    Y = np.concatenate((circular_y,rod_y,other_y),axis=0)\n",
    "    \n",
    "    del circular_preprocessed\n",
    "    del rod_preprocessed\n",
    "    del other_preprocessed\n",
    "    \n",
    "    p = np.random.permutation(Y.shape[0])\n",
    "    X = X[p]\n",
    "    Y = Y[p]\n",
    "    \n",
    "    print(\"X and Y created\")\n",
    "    \n",
    "    train_frac = 0.9\n",
    "    test_frac  = 0.1\n",
    "    train_loc = int(train_frac*Y.shape[0])\n",
    "    X_train = X[:train_loc]\n",
    "    X_test = X[train_loc:]\n",
    "\n",
    "    Y_train = to_categorical(Y[:train_loc],num_classes=3)\n",
    "    Y_test = to_categorical(Y[train_loc:],num_classes=3)\n",
    "#     Y_train = Y[:train_loc]\n",
    "#     Y_test = Y[train_loc:]\n",
    "    \n",
    "    print(\"Permutation generated\")\n",
    "    \n",
    "    pickle.dump(X_train,open('../train/X_train.pickle',\"wb\"))\n",
    "    pickle.dump(X_test,open('../train/X_test.pickle',\"wb\"))\n",
    "    pickle.dump(Y_train,open('../train/Y_train.pickle',\"wb\"))\n",
    "    pickle.dump(Y_test,open('../train/Y_test.pickle',\"wb\"))\n",
    "    print(\"All Done\")\n",
    "else:\n",
    "    X_train = pickle.load(open('../train/X_train.pickle',\"rb\"))\n",
    "    X_test = pickle.load(open('../train/X_test.pickle',\"rb\"))\n",
    "    Y_train = pickle.load(open('../train/Y_train.pickle',\"rb\"))\n",
    "    Y_test = pickle.load(open('../train/Y_test.pickle',\"rb\"))"
   ]
  },
  {
   "cell_type": "code",
   "execution_count": 5,
   "id": "dc98173c",
   "metadata": {},
   "outputs": [
    {
     "name": "stdout",
     "output_type": "stream",
     "text": [
      "(471, 7, 7, 512)\n",
      "(53, 7, 7, 512)\n",
      "(471, 3)\n",
      "(53, 3)\n"
     ]
    }
   ],
   "source": [
    "print(X_train.shape)\n",
    "print(X_test.shape)\n",
    "print(Y_train.shape)\n",
    "print(Y_test.shape)"
   ]
  },
  {
   "cell_type": "markdown",
   "id": "4721477c",
   "metadata": {},
   "source": [
    "# Model Segment"
   ]
  },
  {
   "cell_type": "code",
   "execution_count": 6,
   "id": "f47452c0",
   "metadata": {
    "scrolled": true
   },
   "outputs": [
    {
     "name": "stdout",
     "output_type": "stream",
     "text": [
      "Model: \"sequential\"\n",
      "_________________________________________________________________\n",
      "Layer (type)                 Output Shape              Param #   \n",
      "=================================================================\n",
      "conv2d (Conv2D)              (None, 7, 7, 32)          409632    \n",
      "_________________________________________________________________\n",
      "max_pooling2d (MaxPooling2D) (None, 3, 3, 32)          0         \n",
      "_________________________________________________________________\n",
      "dropout (Dropout)            (None, 3, 3, 32)          0         \n",
      "_________________________________________________________________\n",
      "flatten (Flatten)            (None, 288)               0         \n",
      "_________________________________________________________________\n",
      "dense (Dense)                (None, 90)                26010     \n",
      "_________________________________________________________________\n",
      "dropout_1 (Dropout)          (None, 90)                0         \n",
      "_________________________________________________________________\n",
      "dense_1 (Dense)              (None, 32)                2912      \n",
      "_________________________________________________________________\n",
      "dropout_2 (Dropout)          (None, 32)                0         \n",
      "_________________________________________________________________\n",
      "dense_2 (Dense)              (None, 3)                 99        \n",
      "=================================================================\n",
      "Total params: 438,653\n",
      "Trainable params: 438,653\n",
      "Non-trainable params: 0\n",
      "_________________________________________________________________\n"
     ]
    },
    {
     "name": "stderr",
     "output_type": "stream",
     "text": [
      "C:\\Users\\Sanidhya\\anaconda3\\lib\\site-packages\\keras\\optimizer_v2\\optimizer_v2.py:355: UserWarning: The `lr` argument is deprecated, use `learning_rate` instead.\n",
      "  warnings.warn(\n"
     ]
    }
   ],
   "source": [
    "model = Sequential()\n",
    "model.add(Conv2D(32,(5,5),padding='same',activation='relu',input_shape=(7,7,512)))\n",
    "model.add(MaxPooling2D(pool_size=(2, 2)))\n",
    "model.add(Dropout(0.4))\n",
    "model.add(Flatten())\n",
    "model.add(Dense(units=90, activation='relu'))\n",
    "model.add(Dropout(0.3))\n",
    "model.add(Dense(units=32, activation='sigmoid'))\n",
    "model.add(Dropout(0.3))\n",
    "model.add(Dense(units=3, activation='sigmoid'))    # output layer\n",
    "model.compile(loss='binary_crossentropy',optimizer=Adam(lr=0.0001),metrics=['accuracy'])\n",
    "model.summary()"
   ]
  },
  {
   "cell_type": "code",
   "execution_count": 7,
   "id": "fc4fb9d0",
   "metadata": {
    "scrolled": true
   },
   "outputs": [
    {
     "name": "stdout",
     "output_type": "stream",
     "text": [
      "Epoch 1/30\n",
      "1/1 [==============================] - 2s 2s/step - loss: 0.7280 - accuracy: 0.3185 - val_loss: 0.6363 - val_accuracy: 0.3962\n",
      "Epoch 2/30\n",
      "1/1 [==============================] - 1s 780ms/step - loss: 0.6897 - accuracy: 0.3822 - val_loss: 0.5844 - val_accuracy: 0.5472\n",
      "Epoch 3/30\n",
      "1/1 [==============================] - 1s 741ms/step - loss: 0.6616 - accuracy: 0.4225 - val_loss: 0.5392 - val_accuracy: 0.6415\n",
      "Epoch 4/30\n",
      "1/1 [==============================] - 1s 799ms/step - loss: 0.6403 - accuracy: 0.4713 - val_loss: 0.5051 - val_accuracy: 0.7358\n",
      "Epoch 5/30\n",
      "1/1 [==============================] - 1s 797ms/step - loss: 0.5943 - accuracy: 0.5414 - val_loss: 0.4815 - val_accuracy: 0.7925\n",
      "Epoch 6/30\n",
      "1/1 [==============================] - 1s 767ms/step - loss: 0.5837 - accuracy: 0.5648 - val_loss: 0.4643 - val_accuracy: 0.8113\n",
      "Epoch 7/30\n",
      "1/1 [==============================] - 1s 763ms/step - loss: 0.5728 - accuracy: 0.5881 - val_loss: 0.4498 - val_accuracy: 0.8491\n",
      "Epoch 8/30\n",
      "1/1 [==============================] - 1s 774ms/step - loss: 0.5404 - accuracy: 0.6454 - val_loss: 0.4377 - val_accuracy: 0.8491\n",
      "Epoch 9/30\n",
      "1/1 [==============================] - 1s 759ms/step - loss: 0.5511 - accuracy: 0.5945 - val_loss: 0.4268 - val_accuracy: 0.8679\n",
      "Epoch 10/30\n",
      "1/1 [==============================] - 1s 743ms/step - loss: 0.5340 - accuracy: 0.6433 - val_loss: 0.4175 - val_accuracy: 0.8679\n",
      "Epoch 11/30\n",
      "1/1 [==============================] - 1s 765ms/step - loss: 0.5324 - accuracy: 0.6518 - val_loss: 0.4093 - val_accuracy: 0.8679\n",
      "Epoch 12/30\n",
      "1/1 [==============================] - 1s 606ms/step - loss: 0.5258 - accuracy: 0.6709 - val_loss: 0.4020 - val_accuracy: 0.8679\n",
      "Epoch 13/30\n",
      "1/1 [==============================] - 1s 572ms/step - loss: 0.4993 - accuracy: 0.7155 - val_loss: 0.3954 - val_accuracy: 0.8679\n",
      "Epoch 14/30\n",
      "1/1 [==============================] - 1s 567ms/step - loss: 0.5087 - accuracy: 0.6730 - val_loss: 0.3891 - val_accuracy: 0.8679\n",
      "Epoch 15/30\n",
      "1/1 [==============================] - 1s 621ms/step - loss: 0.5067 - accuracy: 0.6964 - val_loss: 0.3826 - val_accuracy: 0.8679\n",
      "Epoch 16/30\n",
      "1/1 [==============================] - 1s 565ms/step - loss: 0.5055 - accuracy: 0.7049 - val_loss: 0.3759 - val_accuracy: 0.8679\n",
      "Epoch 17/30\n",
      "1/1 [==============================] - 1s 571ms/step - loss: 0.4819 - accuracy: 0.7049 - val_loss: 0.3692 - val_accuracy: 0.8679\n",
      "Epoch 18/30\n",
      "1/1 [==============================] - 1s 626ms/step - loss: 0.4918 - accuracy: 0.6964 - val_loss: 0.3628 - val_accuracy: 0.8679\n",
      "Epoch 19/30\n",
      "1/1 [==============================] - 1s 576ms/step - loss: 0.4794 - accuracy: 0.7367 - val_loss: 0.3564 - val_accuracy: 0.8679\n",
      "Epoch 20/30\n",
      "1/1 [==============================] - 1s 572ms/step - loss: 0.4758 - accuracy: 0.7304 - val_loss: 0.3499 - val_accuracy: 0.8679\n",
      "Epoch 21/30\n",
      "1/1 [==============================] - 1s 572ms/step - loss: 0.4620 - accuracy: 0.7601 - val_loss: 0.3438 - val_accuracy: 0.8679\n",
      "Epoch 22/30\n",
      "1/1 [==============================] - 1s 562ms/step - loss: 0.4611 - accuracy: 0.7771 - val_loss: 0.3379 - val_accuracy: 0.8679\n",
      "Epoch 23/30\n",
      "1/1 [==============================] - 1s 591ms/step - loss: 0.4421 - accuracy: 0.7919 - val_loss: 0.3323 - val_accuracy: 0.8679\n",
      "Epoch 24/30\n",
      "1/1 [==============================] - 1s 774ms/step - loss: 0.4385 - accuracy: 0.7919 - val_loss: 0.3272 - val_accuracy: 0.8679\n",
      "Epoch 25/30\n",
      "1/1 [==============================] - 1s 785ms/step - loss: 0.4443 - accuracy: 0.7622 - val_loss: 0.3225 - val_accuracy: 0.8679\n",
      "Epoch 26/30\n",
      "1/1 [==============================] - 1s 780ms/step - loss: 0.4305 - accuracy: 0.7707 - val_loss: 0.3183 - val_accuracy: 0.8679\n",
      "Epoch 27/30\n",
      "1/1 [==============================] - 1s 789ms/step - loss: 0.4235 - accuracy: 0.7983 - val_loss: 0.3146 - val_accuracy: 0.8679\n",
      "Epoch 28/30\n",
      "1/1 [==============================] - 1s 768ms/step - loss: 0.4336 - accuracy: 0.8004 - val_loss: 0.3116 - val_accuracy: 0.8679\n",
      "Epoch 29/30\n",
      "1/1 [==============================] - 1s 794ms/step - loss: 0.4234 - accuracy: 0.8025 - val_loss: 0.3090 - val_accuracy: 0.8679\n",
      "Epoch 30/30\n",
      "1/1 [==============================] - 1s 778ms/step - loss: 0.4114 - accuracy: 0.8153 - val_loss: 0.3067 - val_accuracy: 0.8679\n",
      "Wall time: 22.7 s\n"
     ]
    }
   ],
   "source": [
    "%%time\n",
    "\n",
    "batch_size = 1024\n",
    "epoch = 30\n",
    "\n",
    "history=model.fit(X_train, Y_train, validation_data=(X_test, Y_test),epochs=epoch, batch_size=batch_size, verbose=1)\n"
   ]
  },
  {
   "cell_type": "code",
   "execution_count": 8,
   "id": "3305d932",
   "metadata": {},
   "outputs": [
    {
     "name": "stdout",
     "output_type": "stream",
     "text": [
      "dict_keys(['loss', 'accuracy', 'val_loss', 'val_accuracy'])\n"
     ]
    },
    {
     "data": {
      "image/png": "[encoded data removed]",
      "text/plain": [
       "<Figure size 432x288 with 1 Axes>"
      ]
     },
     "metadata": {
      "needs_background": "light"
     },
     "output_type": "display_data"
    },
    {
     "data": {
      "image/png": "[encoded data removed]",
      "text/plain": [
       "<Figure size 432x288 with 1 Axes>"
      ]
     },
     "metadata": {
      "needs_background": "light"
     },
     "output_type": "display_data"
    }
   ],
   "source": [
    "print(history.history.keys())\n",
    "# summarize history for accuracy\n",
    "plt.plot(history.history['accuracy'])\n",
    "plt.plot(history.history['val_accuracy'])\n",
    "plt.title('model accuracy')\n",
    "plt.ylabel('accuracy')\n",
    "plt.xlabel('epoch')\n",
    "plt.legend(['train', 'test'], loc='upper left')\n",
    "plt.show()\n",
    "# summarize history for loss\n",
    "plt.plot(history.history['loss'])\n",
    "plt.plot(history.history['val_loss'])\n",
    "plt.title('model loss')\n",
    "plt.ylabel('loss')\n",
    "plt.xlabel('epoch')\n",
    "plt.legend(['train', 'test'], loc='upper left')\n",
    "plt.show()"
   ]
  },
  {
   "cell_type": "code",
   "execution_count": 9,
   "id": "2cb451bf",
   "metadata": {},
   "outputs": [
    {
     "name": "stdout",
     "output_type": "stream",
     "text": [
      "-------------Confusion Matrix-----------\n",
      " [[20  0  7]\n",
      " [ 0 26  0]\n",
      " [ 0  0  0]] \n",
      "----------------------------------------\n",
      "Test accuracy    0.8679245283018868\n"
     ]
    }
   ],
   "source": [
    "###### Confusion Matrix ##########\n",
    "# cm = confusion_matrix(np.argmax(model.predict(X_test),axis=1) , np.argmax(Y_test,axis=1))\n",
    "# sum = np.sum(cm)\n",
    "# accuracy = (cm[0][0] + cm[1][1])/sum\n",
    "# print('-------------Confusion Matrix-----------\\n', cm,'\\n----------------------------------------')\n",
    "# print('Test accuracy   ',accuracy)\n",
    "\n",
    "cm = confusion_matrix(np.argmax(model.predict(X_test),axis=1) , np.argmax(Y_test,axis=1))\n",
    "sum = np.sum(cm)\n",
    "accuracy = (cm[0][0] + cm[1][1]+ cm[2][2])/sum\n",
    "print('-------------Confusion Matrix-----------\\n', cm,'\\n----------------------------------------')\n",
    "print('Test accuracy   ',accuracy)"
   ]
  },
  {
   "cell_type": "code",
   "execution_count": 10,
   "id": "7a08c353",
   "metadata": {},
   "outputs": [
    {
     "name": "stdout",
     "output_type": "stream",
     "text": [
      "INFO:tensorflow:Assets written to: ../model\\assets\n"
     ]
    }
   ],
   "source": [
    "model.save(\"../model\")"
   ]
  },
  {
   "cell_type": "code",
   "execution_count": null,
   "id": "864df8cc",
   "metadata": {
    "scrolled": true
   },
   "outputs": [],
   "source": []
  },
  {
   "cell_type": "code",
   "execution_count": 11,
   "id": "ae84c6f6",
   "metadata": {},
   "outputs": [
    {
     "name": "stdout",
     "output_type": "stream",
     "text": [
      "[[0.6681665  0.0987215  0.33856282]\n",
      " [0.74469376 0.06741935 0.2129916 ]\n",
      " [0.56676614 0.09416837 0.3574949 ]\n",
      " [0.75454843 0.05697191 0.1795243 ]\n",
      " [0.5756078  0.10723075 0.44064513]\n",
      " [0.7382851  0.10839134 0.20420974]\n",
      " [0.1656228  0.7838144  0.24553365]\n",
      " [0.1798783  0.74678034 0.20306581]\n",
      " [0.18775049 0.73975724 0.20138216]\n",
      " [0.64574313 0.10044622 0.36161894]\n",
      " [0.75412416 0.07266018 0.14206555]\n",
      " [0.2132529  0.6972681  0.13868788]\n",
      " [0.77583206 0.04870009 0.16047761]\n",
      " [0.17421415 0.70893055 0.17551497]\n",
      " [0.17901582 0.744017   0.18522143]\n",
      " [0.1891757  0.72392136 0.1872667 ]\n",
      " [0.7656146  0.07047847 0.15113214]\n",
      " [0.73319393 0.06651548 0.22623622]\n",
      " [0.73193115 0.06018308 0.17844695]\n",
      " [0.22932878 0.7908877  0.19858512]\n",
      " [0.2621681  0.4927026  0.20340702]\n",
      " [0.77462906 0.05817413 0.19215333]\n",
      " [0.6553208  0.07788929 0.29025346]\n",
      " [0.6903938  0.07992601 0.3216595 ]\n",
      " [0.17206034 0.74952435 0.2301457 ]\n",
      " [0.5210112  0.07097298 0.413414  ]\n",
      " [0.17995036 0.7365163  0.17714822]\n",
      " [0.7064022  0.08256656 0.20727876]\n",
      " [0.17917675 0.7549021  0.19317585]\n",
      " [0.18618968 0.72848845 0.17503491]\n",
      " [0.74781924 0.05903727 0.20546183]\n",
      " [0.7069434  0.04170868 0.17799237]\n",
      " [0.20205879 0.71086717 0.1786665 ]\n",
      " [0.17540815 0.76076174 0.20216075]\n",
      " [0.48295996 0.08158776 0.4555622 ]\n",
      " [0.1831634  0.76918566 0.20856014]\n",
      " [0.19838047 0.75549567 0.19950762]\n",
      " [0.779997   0.09298366 0.1634436 ]\n",
      " [0.58510435 0.09636536 0.26661462]\n",
      " [0.18106672 0.77462137 0.22704625]\n",
      " [0.17280623 0.7856116  0.24704972]\n",
      " [0.5875528  0.10094616 0.37713122]\n",
      " [0.18375304 0.73094124 0.17215234]\n",
      " [0.7329652  0.06947714 0.20867673]\n",
      " [0.5714337  0.14658582 0.2813269 ]\n",
      " [0.19246072 0.7218482  0.16007265]\n",
      " [0.17588568 0.72354794 0.18353263]\n",
      " [0.17167562 0.79467833 0.24638987]\n",
      " [0.18204492 0.72659063 0.1646981 ]\n",
      " [0.17180258 0.80230534 0.26133454]\n",
      " [0.7312058  0.07796225 0.2132717 ]\n",
      " [0.16495904 0.78110564 0.23958093]\n",
      " [0.75703    0.05071503 0.14485848]]\n",
      "[0 0 0 0 0 0 1 1 1 0 0 1 0 1 1 1 0 0 0 1 1 0 0 0 1 0 1 0 1 1 0 0 1 1 0 1 1\n",
      " 0 0 1 1 0 1 0 0 1 1 1 1 1 0 1 0]\n"
     ]
    }
   ],
   "source": [
    "Y =model.predict(X_test) \n",
    "print(Y)\n",
    "print(np.argmax(Y,axis=1))"
   ]
  },
  {
   "cell_type": "code",
   "execution_count": null,
   "id": "a9c26ab9",
   "metadata": {},
   "outputs": [],
   "source": []
  },
  {
   "cell_type": "markdown",
   "id": "687b546d",
   "metadata": {},
   "source": [
    "# Classification operation"
   ]
  },
  {
   "cell_type": "markdown",
   "id": "b828ebad",
   "metadata": {},
   "source": [
    "##### Clean Input Cache\n",
    "Cleans the input cache of batches of input for processing"
   ]
  },
  {
   "cell_type": "code",
   "execution_count": 81,
   "id": "b3e02e3b",
   "metadata": {},
   "outputs": [],
   "source": [
    "a=[]\n",
    "a=np.array(a)\n",
    "pickle.dump(a,open('../cache/Input'+'/preprocessed.pickle',\"wb\"))"
   ]
  },
  {
   "cell_type": "markdown",
   "id": "09c260e9",
   "metadata": {},
   "source": [
    "#### Helper Functions"
   ]
  },
  {
   "cell_type": "code",
   "execution_count": 82,
   "id": "3f18a108",
   "metadata": {},
   "outputs": [],
   "source": [
    "\n",
    "def preprocess_files(directory, unprocessed_files):\n",
    "    print(\"Length of unprocessed files is\",len(unprocessed_files))\n",
    "    if len(unprocessed_files) <= 1:\n",
    "            return;\n",
    "    image_array = []\n",
    "    for img_name in tqdm(unprocessed_files):\n",
    "        img = cv2.imread(\"../Input/\"+img_name)\n",
    "        if type(img) == type(None):\n",
    "            print(\"---------------------------------------------------------\",img_name)\n",
    "            img = np.zeros([224,224,3])\n",
    "        res_img = resize(img, preserve_range=True, output_shape=(224,224)).astype(int)\n",
    "        image_array.append(res_img)\n",
    "    image_nparray = np.array(image_array) # Convert to numpy array with dimension changed\n",
    "    del image_array\n",
    "    print(\"Converted into np array\")\n",
    "    image_nparray = preprocess_input(image_nparray) # preprocessed\n",
    "    print(\"Preprocessing completed\")\n",
    "    base_model = VGG16(weights='imagenet', include_top=False, input_shape=(224, 224, 3))\n",
    "    image_nparray = base_model.predict(image_nparray)\n",
    "    print(\"Base model imposed\")\n",
    "    \n",
    "    preprocessed_files = pickle.load(open('../cache/'+directory+'/preprocessed.pickle',\"rb\"))\n",
    "    \n",
    "    if preprocessed_files.shape[0] == 0:\n",
    "        preprocessed_files = image_nparray\n",
    "    else:\n",
    "        preprocessed_files = np.concatenate((preprocessed_files,image_nparray),axis=0)\n",
    "    pickle.dump(preprocessed_files,open('../cache/'+directory+'/preprocessed.pickle',\"wb\"))\n",
    "    print(\"All done\")"
   ]
  },
  {
   "cell_type": "markdown",
   "id": "3c4768f7",
   "metadata": {},
   "source": [
    "#### Create a list of image files\n",
    "Assuming all images are of square shape"
   ]
  },
  {
   "cell_type": "code",
   "execution_count": 83,
   "id": "8e05dba7",
   "metadata": {},
   "outputs": [
    {
     "name": "stdout",
     "output_type": "stream",
     "text": [
      "There are total 5 input files\n",
      "Length of unprocessed files is 5\n"
     ]
    },
    {
     "data": {
      "application/vnd.jupyter.widget-view+json": {
       "model_id": "fbbba971ef1c4415a55c38f5df76c7ca",
       "version_major": 2,
       "version_minor": 0
      },
      "text/plain": [
       "  0%|          | 0/5 [00:00<?, ?it/s]"
      ]
     },
     "metadata": {},
     "output_type": "display_data"
    },
    {
     "name": "stdout",
     "output_type": "stream",
     "text": [
      "Converted into np array\n",
      "Preprocessing completed\n",
      "Base model imposed\n",
      "All done\n"
     ]
    }
   ],
   "source": [
    "\n",
    "unprocessed_input_files = [img for img in os.listdir(\"../Input\")]\n",
    "print(\"There are total\",len(unprocessed_input_files),\"input files\")\n",
    "\n",
    "process_batch_size = 1024\n",
    "batch = []\n",
    "for i in range(len(unprocessed_input_files)):\n",
    "    batch.append(unprocessed_input_files[i])\n",
    "    if (i+1)%process_batch_size == 0 or i == len(unprocessed_input_files)-1:\n",
    "        preprocess_files(\"Input\",batch)\n",
    "        batch = []\n"
   ]
  },
  {
   "cell_type": "code",
   "execution_count": 84,
   "id": "53b438c2",
   "metadata": {},
   "outputs": [
    {
     "name": "stdout",
     "output_type": "stream",
     "text": [
      "input files loaded\n"
     ]
    }
   ],
   "source": [
    "\n",
    "X = pickle.load(open('../cache/Input/preprocessed.pickle',\"rb\"))\n",
    "\n",
    "print(\"input files loaded\")\n",
    "\n",
    "model = tf.keras.models.load_model(\"../model\")\n"
   ]
  },
  {
   "cell_type": "code",
   "execution_count": 85,
   "id": "b8ba4411",
   "metadata": {},
   "outputs": [
    {
     "data": {
      "text/plain": [
       "(5, 7, 7, 512)"
      ]
     },
     "execution_count": 85,
     "metadata": {},
     "output_type": "execute_result"
    }
   ],
   "source": [
    "X.shape"
   ]
  },
  {
   "cell_type": "code",
   "execution_count": 89,
   "id": "931f03a6",
   "metadata": {},
   "outputs": [
    {
     "name": "stdout",
     "output_type": "stream",
     "text": [
      "Output generated\n",
      "Total no of circular cells 1\n",
      "Total no of rod cells      0\n",
      "Total no of other cells    4\n"
     ]
    }
   ],
   "source": [
    "Y = model.predict(X) \n",
    "Y = np.argmax(Y,axis=1)\n",
    "\n",
    "print(\"Output generated\")\n",
    "\n",
    "print(\"Total no of circular cells\", np.sum(Y==0))\n",
    "\n",
    "print(\"Total no of rod cells     \", np.sum(Y==1))\n",
    "\n",
    "print(\"Total no of other cells   \", np.sum(Y==2))"
   ]
  },
  {
   "cell_type": "code",
   "execution_count": 103,
   "id": "736bc403",
   "metadata": {},
   "outputs": [],
   "source": [
    "savefile=[[\"Filename\",\"Cell Type\"]]\n",
    "for i in range(len(unprocessed_input_files)):\n",
    "    row = []\n",
    "    row.append(unprocessed_input_files[i])\n",
    "    if Y[i] == 0:\n",
    "        row.append(\"Circular\")\n",
    "    elif Y[i] == 1:\n",
    "        row.append(\"Rod\")\n",
    "    else:\n",
    "        row.append(\"Other\")\n",
    "    savefile.append(row)\n",
    "    \n",
    "savefile = np.array(savefile)\n"
   ]
  },
  {
   "cell_type": "code",
   "execution_count": 107,
   "id": "f5850eb7",
   "metadata": {},
   "outputs": [],
   "source": [
    "savename=\"Output\"\n",
    "\n",
    "\n",
    "np.savetxt(\"../Output/\"+savename+\".csv\", \n",
    "           savefile,\n",
    "           delimiter =\", \", \n",
    "           fmt ='% s')"
   ]
  },
  {
   "cell_type": "code",
   "execution_count": null,
   "id": "6f5cad49",
   "metadata": {},
   "outputs": [],
   "source": []
  },
  {
   "cell_type": "code",
   "execution_count": null,
   "id": "e927b393",
   "metadata": {},
   "outputs": [],
   "source": []
  }
 ],
 "metadata": {
  "kernelspec": {
   "display_name": "Python 3",
   "language": "python",
   "name": "python3"
  },
  "language_info": {
   "codemirror_mode": {
    "name": "ipython",
    "version": 3
   },
   "file_extension": ".py",
   "mimetype": "text/x-python",
   "name": "python",
   "nbconvert_exporter": "python",
   "pygments_lexer": "ipython3",
   "version": "3.8.8"
  }
 },
 "nbformat": 4,
 "nbformat_minor": 5
}
