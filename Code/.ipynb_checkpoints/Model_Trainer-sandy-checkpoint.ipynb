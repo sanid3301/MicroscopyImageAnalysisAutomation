{
 "cells": [
  {
   "cell_type": "code",
   "execution_count": 1,
   "id": "c2355e9e",
   "metadata": {},
   "outputs": [],
   "source": [
    "# a = []\n",
    "# pickle.dump(a,open('../train/vgg/'+\"dirty\"+'/processed_files.pickle',\"wb\"))\n",
    "# pickle.dump(a,open('../train/vgg/'+\"clean\"+'/processed_files.pickle',\"wb\"))\n",
    "\n",
    "# a = np.array(a)\n",
    "# pickle.dump(a,open('../train/vgg/clean/preprocessed.pickle',\"wb\"))\n",
    "# pickle.dump(a,open('../train/vgg/dirty/preprocessed.pickle',\"wb\"))"
   ]
  },
  {
   "cell_type": "code",
   "execution_count": 1,
   "id": "e4097baa",
   "metadata": {
    "scrolled": true
   },
   "outputs": [],
   "source": [
    "# if(reloadStorage):\n",
    "#     base_model = VGG16(weights='imagenet', include_top=False, input_shape=(224, 224, 3))\n",
    "#     clean_preprocessed = pickle.load(open('../train/vgg/clean/preprocessed.pickle',\"rb\"))\n",
    "#     dirty_preprocessed = pickle.load(open('../train/vgg/dirty/preprocessed.pickle',\"rb\"))\n",
    "\n",
    "#     for dirs in os.listdir(\"../train/image\"):\n",
    "#         processed_files = pickle.load(open('../train/vgg/'+dirs+'/processed_files.pickle',\"rb\"))\n",
    "#         image_list = os.listdir(\"../train/image/\"+dirs)\n",
    "#         unprocessed_files = [img for img in image_list if img not in processed_files]\n",
    "#         print(dirs,\"unprocessed files found\")\n",
    "        \n",
    "#         if len(unprocessed_files) <= 1:\n",
    "#             continue;\n",
    "            \n",
    "#         image_array = []\n",
    "#         for img_name in tqdm(unprocessed_files):\n",
    "#             img = cv2.imread(\"../train/image/\"+dirs+\"/\"+img_name)\n",
    "#             if type(img) == type(None):\n",
    "#                 print(\"---------------------------------------------------------\",img_name)\n",
    "#                 img = np.zeros([224,224,3])\n",
    "#             res_img = resize(img, preserve_range=True, output_shape=(224,224)).astype(int)\n",
    "#             image_array.append(res_img)\n",
    "#         image_nparray = np.array(image_array) # with dimension changed\n",
    "#         del image_array\n",
    "#         print(\"Converted into np array\")\n",
    "#         image_nparray = preprocess_input(image_nparray) # preprocessed\n",
    "#         print(\"Preprocessing completed\")\n",
    "#         image_nparray = base_model.predict(image_nparray)\n",
    "#         print(\"Base model imposed\")\n",
    "\n",
    "#         if dirs == \"dirty\":\n",
    "#             if dirty_preprocessed.shape[0] == 0:\n",
    "#                 dirty_preprocessed = image_nparray\n",
    "#             else:\n",
    "#                 dirty_preprocessed = np.concatenate((dirty_preprocessed,image_nparray),axis=0)\n",
    "#             pickle.dump(dirty_preprocessed,open('../train/vgg/dirty/preprocessed.pickle',\"wb\"))\n",
    "#         elif dirs == \"clean\":\n",
    "#             if clean_preprocessed.shape[0] == 0:\n",
    "#                 clean_preprocessed = image_nparray\n",
    "#             else:\n",
    "#                 clean_preprocessed = np.concatenate((clean_preprocessed,image_nparray),axis=0)\n",
    "#             pickle.dump(clean_preprocessed,open('../train/vgg/clean/preprocessed.pickle',\"wb\"))\n",
    "\n",
    "#         processed_files += unprocessed_files\n",
    "#         pickle.dump(processed_files,open('../train/vgg/'+dirs+'/processed_files.pickle',\"wb\"))\n",
    "#         print(\"All done\")\n"
   ]
  },
  {
   "cell_type": "markdown",
   "id": "e4d1fb67",
   "metadata": {},
   "source": [
    "# Imports"
   ]
  },
  {
   "cell_type": "code",
   "execution_count": 1,
   "id": "8001edac",
   "metadata": {},
   "outputs": [
    {
     "ename": "ModuleNotFoundError",
     "evalue": "No module named 'cv2'",
     "output_type": "error",
     "traceback": [
      "\u001b[1;31m---------------------------------------------------------------------------\u001b[0m",
      "\u001b[1;31mModuleNotFoundError\u001b[0m                       Traceback (most recent call last)",
      "\u001b[1;32m<ipython-input-1-88ca1e794394>\u001b[0m in \u001b[0;36m<module>\u001b[1;34m\u001b[0m\n\u001b[0;32m      1\u001b[0m \u001b[1;32mimport\u001b[0m \u001b[0mos\u001b[0m\u001b[1;33m\u001b[0m\u001b[1;33m\u001b[0m\u001b[0m\n\u001b[1;32m----> 2\u001b[1;33m \u001b[1;32mimport\u001b[0m \u001b[0mcv2\u001b[0m     \u001b[1;31m# for capturing videos\u001b[0m\u001b[1;33m\u001b[0m\u001b[1;33m\u001b[0m\u001b[0m\n\u001b[0m\u001b[0;32m      3\u001b[0m \u001b[1;32mimport\u001b[0m \u001b[0mmath\u001b[0m   \u001b[1;31m# for mathematical operations\u001b[0m\u001b[1;33m\u001b[0m\u001b[1;33m\u001b[0m\u001b[0m\n\u001b[0;32m      4\u001b[0m \u001b[1;32mimport\u001b[0m \u001b[0mpickle\u001b[0m\u001b[1;33m\u001b[0m\u001b[1;33m\u001b[0m\u001b[0m\n\u001b[0;32m      5\u001b[0m \u001b[1;32mimport\u001b[0m \u001b[0mnumpy\u001b[0m \u001b[1;32mas\u001b[0m \u001b[0mnp\u001b[0m    \u001b[1;31m# for mathematical operations\u001b[0m\u001b[1;33m\u001b[0m\u001b[1;33m\u001b[0m\u001b[0m\n",
      "\u001b[1;31mModuleNotFoundError\u001b[0m: No module named 'cv2'"
     ]
    }
   ],
   "source": [
    "import os\n",
    "import cv2     # for capturing videos\n",
    "import math   # for mathematical operations\n",
    "import pickle\n",
    "import numpy as np    # for mathematical operations\n",
    "import pandas as pd\n",
    "import tensorflow as tf\n",
    "import matplotlib.pyplot as plt    # for plotting the images\n",
    "%matplotlib inline\n",
    "from skimage.transform import resize   # for resizing images\n",
    "\n",
    "from tqdm.notebook import tqdm"
   ]
  },
  {
   "cell_type": "code",
   "execution_count": 2,
   "id": "b7a5c58d",
   "metadata": {},
   "outputs": [],
   "source": [
    "import cv2     # for capturing videos\n",
    "import math   # for mathematical operations\n",
    "from skimage.transform                   import resize   # for resizing images\n",
    "from tensorflow.keras.models             import Sequential\n",
    "from tensorflow.keras.preprocessing      import image   # for preprocessing the images\n",
    "from tensorflow.keras.applications.vgg16 import VGG16\n",
    "from tensorflow.keras.applications.vgg16 import preprocess_input\n",
    "from tensorflow.keras.layers             import Dense, InputLayer, Dropout, MaxPooling2D\n",
    "from tensorflow.keras.utils              import to_categorical\n",
    "from tensorflow.keras.layers import Dense,GRU,LSTM,Embedding\n",
    "from tensorflow.keras.optimizers import Adam\n",
    "from tensorflow.keras.layers import SpatialDropout1D,Dropout,Bidirectional,Conv1D,Conv2D,GlobalMaxPooling1D,MaxPooling1D,MaxPool2D,Flatten\n",
    "from tensorflow.keras.callbacks import ModelCheckpoint, TensorBoard, Callback, EarlyStopping\n",
    "from tensorflow.keras.utils import to_categorical\n",
    "from keras.regularizers import l2\n",
    "from sklearn.metrics import confusion_matrix\n",
    "\n",
    "reloadStorage = False"
   ]
  },
  {
   "cell_type": "code",
   "execution_count": 3,
   "id": "656d6287",
   "metadata": {},
   "outputs": [],
   "source": [
    "\n",
    "def load_files(directory, unprocessed_files):\n",
    "    if len(unprocessed_files) <= 1:\n",
    "            return;\n",
    "    processed_files = pickle.load(open('../train/vgg/'+directory+'/processed_files.pickle',\"rb\"))\n",
    "    image_array = []\n",
    "    for img_name in tqdm(unprocessed_files):\n",
    "        img = cv2.imread(\"../train/image/\"+directory+\"/\"+img_name)\n",
    "        if type(img) == type(None):\n",
    "            print(\"---------------------------------------------------------\",img_name)\n",
    "            img = np.zeros([224,224,3])\n",
    "        res_img = resize(img, preserve_range=True, output_shape=(224,224)).astype(int)\n",
    "        image_array.append(res_img)\n",
    "    image_nparray = np.array(image_array) # with dimension changed\n",
    "    del image_array\n",
    "    print(\"Converted into np array\")\n",
    "    image_nparray = preprocess_input(image_nparray) # preprocessed\n",
    "    print(\"Preprocessing completed\")\n",
    "    base_model = VGG16(weights='imagenet', include_top=False, input_shape=(224, 224, 3))\n",
    "    image_nparray = base_model.predict(image_nparray)\n",
    "    print(\"Base model imposed\")\n",
    "    \n",
    "    preprocessed_files = pickle.load(open('../train/vgg/'+directory+'/preprocessed.pickle',\"rb\"))\n",
    "    if preprocessed_files.shape[0] == 0:\n",
    "        preprocessed_files = image_nparray\n",
    "    else:\n",
    "        preprocessed_files = np.concatenate((preprocessed_files,image_nparray),axis=0)\n",
    "    pickle.dump(preprocessed_files,open('../train/vgg/'+directory+'/preprocessed.pickle',\"wb\"))\n",
    "    processed_files += unprocessed_files\n",
    "    pickle.dump(processed_files,open('../train/vgg/'+directory+'/processed_files.pickle',\"wb\"))\n",
    "    print(\"All done\")\n",
    "\n",
    "if(reloadStorage):\n",
    "    for dirs in os.listdir(\"../train/image\"):\n",
    "        processed_files = pickle.load(open('../train/vgg/'+dirs+'/processed_files.pickle',\"rb\"))\n",
    "        image_list = os.listdir(\"../train/image/\"+dirs)\n",
    "        unprocessed_files = [img for img in image_list if img not in processed_files]\n",
    "        print(len(unprocessed_files), dirs,\"unprocessed files found\")\n",
    "        \n",
    "        process_batch_size = 1024\n",
    "        batch = []\n",
    "        for i in range(len(unprocessed_files)):\n",
    "            batch.append(unprocessed_files[i])\n",
    "            if i%process_batch_size == 0 or i == len(unprocessed_files)-1:\n",
    "                load_files(dirs,batch)\n",
    "                batch = []\n"
   ]
  },
  {
   "cell_type": "code",
   "execution_count": null,
   "id": "03f8d534",
   "metadata": {},
   "outputs": [],
   "source": [
    "\n"
   ]
  },
  {
   "cell_type": "markdown",
   "id": "9e8dd74c",
   "metadata": {},
   "source": [
    "# Train Files Generation"
   ]
  },
  {
   "cell_type": "code",
   "execution_count": 4,
   "id": "e62140b8",
   "metadata": {},
   "outputs": [],
   "source": [
    "if(reloadStorage):\n",
    "    circular_preprocessed = pickle.load(open('../train/vgg/circular/preprocessed.pickle',\"rb\"))\n",
    "    rod_preprocessed = pickle.load(open('../train/vgg/rod/preprocessed.pickle',\"rb\"))\n",
    "    other_preprocessed = pickle.load(open('../train/vgg/other/preprocessed.pickle',\"rb\"))\n",
    "    circular_y = np.zeros((circular_preprocessed.shape[0],1))\n",
    "    rod_y = np.ones((rod_preprocessed.shape[0],1))\n",
    "    other_y = np.ones((other_preprocessed.shape[0],1)) * 2\n",
    "    \n",
    "    print(\"preprocessed files loaded\")\n",
    "    \n",
    "    X = np.concatenate((circular_preprocessed,rod_preprocessed,other_preprocessed),axis=0)\n",
    "    Y = np.concatenate((circular_y,rod_y,other_y),axis=0)\n",
    "    \n",
    "    del circular_preprocessed\n",
    "    del rod_preprocessed\n",
    "    del other_preprocessed\n",
    "    \n",
    "    p = np.random.permutation(Y.shape[0])\n",
    "    X = X[p]\n",
    "    Y = Y[p]\n",
    "    \n",
    "    print(\"X and Y created\")\n",
    "    \n",
    "    train_frac = 0.9\n",
    "    test_frac  = 0.1\n",
    "    train_loc = int(train_frac*Y.shape[0])\n",
    "    X_train = X[:train_loc]\n",
    "    X_test = X[train_loc:]\n",
    "\n",
    "    Y_train = to_categorical(Y[:train_loc],num_classes=3)\n",
    "    Y_test = to_categorical(Y[train_loc:],num_classes=3)\n",
    "#     Y_train = Y[:train_loc]\n",
    "#     Y_test = Y[train_loc:]\n",
    "    \n",
    "    print(\"Permutation generated\")\n",
    "    \n",
    "    pickle.dump(X_train,open('../train/X_train.pickle',\"wb\"))\n",
    "    pickle.dump(X_test,open('../train/X_test.pickle',\"wb\"))\n",
    "    pickle.dump(Y_train,open('../train/Y_train.pickle',\"wb\"))\n",
    "    pickle.dump(Y_test,open('../train/Y_test.pickle',\"wb\"))\n",
    "    print(\"All Done\")\n",
    "else:\n",
    "    X_train = pickle.load(open('../train/X_train.pickle',\"rb\"))\n",
    "    X_test = pickle.load(open('../train/X_test.pickle',\"rb\"))\n",
    "    Y_train = pickle.load(open('../train/Y_train.pickle',\"rb\"))\n",
    "    Y_test = pickle.load(open('../train/Y_test.pickle',\"rb\"))"
   ]
  },
  {
   "cell_type": "code",
   "execution_count": 9,
   "id": "dc98173c",
   "metadata": {},
   "outputs": [
    {
     "data": {
      "text/plain": [
       "(16060, 1)"
      ]
     },
     "execution_count": 9,
     "metadata": {},
     "output_type": "execute_result"
    }
   ],
   "source": [
    "print(X_train.shape)\n",
    "print(X_test.shape)\n",
    "print(Y_train.shape)\n",
    "print(Y_test.shape)"
   ]
  },
  {
   "cell_type": "markdown",
   "id": "4721477c",
   "metadata": {},
   "source": [
    "# Model Segment"
   ]
  },
  {
   "cell_type": "code",
   "execution_count": 36,
   "id": "f47452c0",
   "metadata": {},
   "outputs": [
    {
     "name": "stdout",
     "output_type": "stream",
     "text": [
      "Model: \"sequential_5\"\n",
      "_________________________________________________________________\n",
      "Layer (type)                 Output Shape              Param #   \n",
      "=================================================================\n",
      "conv2d_5 (Conv2D)            (None, 7, 7, 32)          409632    \n",
      "_________________________________________________________________\n",
      "max_pooling2d_5 (MaxPooling2 (None, 3, 3, 32)          0         \n",
      "_________________________________________________________________\n",
      "dropout_15 (Dropout)         (None, 3, 3, 32)          0         \n",
      "_________________________________________________________________\n",
      "flatten_5 (Flatten)          (None, 288)               0         \n",
      "_________________________________________________________________\n",
      "dense_15 (Dense)             (None, 90)                26010     \n",
      "_________________________________________________________________\n",
      "dropout_16 (Dropout)         (None, 90)                0         \n",
      "_________________________________________________________________\n",
      "dense_16 (Dense)             (None, 32)                2912      \n",
      "_________________________________________________________________\n",
      "dropout_17 (Dropout)         (None, 32)                0         \n",
      "_________________________________________________________________\n",
      "dense_17 (Dense)             (None, 1)                 33        \n",
      "=================================================================\n",
      "Total params: 438,587\n",
      "Trainable params: 438,587\n",
      "Non-trainable params: 0\n",
      "_________________________________________________________________\n"
     ]
    }
   ],
   "source": [
    "model = Sequential()\n",
    "model.add(Conv2D(32,(5,5),padding='same',activation='relu',input_shape=(7,7,512)))\n",
    "model.add(MaxPooling2D(pool_size=(2, 2)))\n",
    "model.add(Dropout(0.4))\n",
    "model.add(Flatten())\n",
    "model.add(Dense(units=90, activation='relu'))\n",
    "model.add(Dropout(0.3))\n",
    "model.add(Dense(units=32, activation='sigmoid'))\n",
    "model.add(Dropout(0.3))\n",
    "model.add(Dense(units=3, activation='sigmoid'))    # output layer\n",
    "model.compile(loss='binary_crossentropy',optimizer=Adam(lr=0.0001),metrics=['accuracy'])\n",
    "model.summary()"
   ]
  },
  {
   "cell_type": "code",
   "execution_count": 37,
   "id": "fc4fb9d0",
   "metadata": {
    "scrolled": true
   },
   "outputs": [
    {
     "name": "stdout",
     "output_type": "stream",
     "text": [
      "Epoch 1/35\n",
      "16/16 [==============================] - 11s 628ms/step - loss: 0.8534 - accuracy: 0.4977 - val_loss: 0.7066 - val_accuracy: 0.5412\n",
      "Epoch 2/35\n",
      "16/16 [==============================] - 12s 767ms/step - loss: 0.7239 - accuracy: 0.5366 - val_loss: 0.6831 - val_accuracy: 0.5552\n",
      "Epoch 3/35\n",
      "16/16 [==============================] - 14s 898ms/step - loss: 0.6932 - accuracy: 0.5697 - val_loss: 0.5582 - val_accuracy: 0.7440\n",
      "Epoch 4/35\n",
      "16/16 [==============================] - 15s 977ms/step - loss: 0.6498 - accuracy: 0.6238 - val_loss: 0.5157 - val_accuracy: 0.7854\n",
      "Epoch 5/35\n",
      "16/16 [==============================] - 14s 917ms/step - loss: 0.6066 - accuracy: 0.6766 - val_loss: 0.4682 - val_accuracy: 0.8039\n",
      "Epoch 6/35\n",
      "16/16 [==============================] - 13s 806ms/step - loss: 0.5605 - accuracy: 0.7249 - val_loss: 0.4357 - val_accuracy: 0.8185\n",
      "Epoch 7/35\n",
      "16/16 [==============================] - 14s 849ms/step - loss: 0.5233 - accuracy: 0.7607 - val_loss: 0.4128 - val_accuracy: 0.8325\n",
      "Epoch 8/35\n",
      "16/16 [==============================] - 14s 909ms/step - loss: 0.4969 - accuracy: 0.7839 - val_loss: 0.3940 - val_accuracy: 0.8403\n",
      "Epoch 9/35\n",
      "16/16 [==============================] - 13s 821ms/step - loss: 0.4725 - accuracy: 0.8012 - val_loss: 0.3779 - val_accuracy: 0.8482\n",
      "Epoch 10/35\n",
      "16/16 [==============================] - 14s 909ms/step - loss: 0.4431 - accuracy: 0.8184 - val_loss: 0.3657 - val_accuracy: 0.8577\n",
      "Epoch 11/35\n",
      "16/16 [==============================] - 13s 840ms/step - loss: 0.4230 - accuracy: 0.8314 - val_loss: 0.3529 - val_accuracy: 0.8588\n",
      "Epoch 12/35\n",
      "16/16 [==============================] - 15s 957ms/step - loss: 0.3982 - accuracy: 0.8491 - val_loss: 0.3441 - val_accuracy: 0.8650\n",
      "Epoch 13/35\n",
      "16/16 [==============================] - 13s 839ms/step - loss: 0.3903 - accuracy: 0.8516 - val_loss: 0.3315 - val_accuracy: 0.8700\n",
      "Epoch 14/35\n",
      "16/16 [==============================] - 15s 950ms/step - loss: 0.3649 - accuracy: 0.8637 - val_loss: 0.3268 - val_accuracy: 0.8723\n",
      "Epoch 15/35\n",
      "16/16 [==============================] - 16s 979ms/step - loss: 0.3483 - accuracy: 0.8722 - val_loss: 0.3158 - val_accuracy: 0.8768\n",
      "Epoch 16/35\n",
      "16/16 [==============================] - 15s 936ms/step - loss: 0.3352 - accuracy: 0.8787 - val_loss: 0.3052 - val_accuracy: 0.8829\n",
      "Epoch 17/35\n",
      "16/16 [==============================] - 14s 840ms/step - loss: 0.3174 - accuracy: 0.8886 - val_loss: 0.3006 - val_accuracy: 0.8852\n",
      "Epoch 18/35\n",
      "16/16 [==============================] - 14s 915ms/step - loss: 0.2992 - accuracy: 0.8952 - val_loss: 0.2942 - val_accuracy: 0.8896\n",
      "Epoch 19/35\n",
      "16/16 [==============================] - 15s 907ms/step - loss: 0.2848 - accuracy: 0.9025 - val_loss: 0.2885 - val_accuracy: 0.8874\n",
      "Epoch 20/35\n",
      "16/16 [==============================] - 14s 869ms/step - loss: 0.2775 - accuracy: 0.9087 - val_loss: 0.2826 - val_accuracy: 0.8891\n",
      "Epoch 21/35\n",
      "16/16 [==============================] - 15s 947ms/step - loss: 0.2647 - accuracy: 0.9128 - val_loss: 0.2782 - val_accuracy: 0.8947\n",
      "Epoch 22/35\n",
      "16/16 [==============================] - 13s 794ms/step - loss: 0.2523 - accuracy: 0.9202 - val_loss: 0.2740 - val_accuracy: 0.8952\n",
      "Epoch 23/35\n",
      "16/16 [==============================] - 15s 927ms/step - loss: 0.2383 - accuracy: 0.9288 - val_loss: 0.2679 - val_accuracy: 0.8980\n",
      "Epoch 24/35\n",
      "16/16 [==============================] - 14s 894ms/step - loss: 0.2266 - accuracy: 0.9358 - val_loss: 0.2682 - val_accuracy: 0.8992\n",
      "Epoch 25/35\n",
      "16/16 [==============================] - 13s 808ms/step - loss: 0.2177 - accuracy: 0.9366 - val_loss: 0.2647 - val_accuracy: 0.9008\n",
      "Epoch 26/35\n",
      "16/16 [==============================] - 15s 925ms/step - loss: 0.2018 - accuracy: 0.9458 - val_loss: 0.2618 - val_accuracy: 0.8975\n",
      "Epoch 27/35\n",
      "16/16 [==============================] - 13s 803ms/step - loss: 0.1945 - accuracy: 0.9498 - val_loss: 0.2627 - val_accuracy: 0.8986\n",
      "Epoch 28/35\n",
      "16/16 [==============================] - 15s 945ms/step - loss: 0.1832 - accuracy: 0.9535 - val_loss: 0.2596 - val_accuracy: 0.9003\n",
      "Epoch 29/35\n",
      "16/16 [==============================] - 15s 935ms/step - loss: 0.1750 - accuracy: 0.9571 - val_loss: 0.2575 - val_accuracy: 0.9025\n",
      "Epoch 30/35\n",
      "16/16 [==============================] - 13s 818ms/step - loss: 0.1664 - accuracy: 0.9602 - val_loss: 0.2567 - val_accuracy: 0.9031\n",
      "Epoch 31/35\n",
      "16/16 [==============================] - 15s 953ms/step - loss: 0.1594 - accuracy: 0.9606 - val_loss: 0.2570 - val_accuracy: 0.9014\n",
      "Epoch 32/35\n",
      "16/16 [==============================] - 13s 816ms/step - loss: 0.1527 - accuracy: 0.9633 - val_loss: 0.2562 - val_accuracy: 0.9059\n",
      "Epoch 33/35\n",
      "16/16 [==============================] - 15s 951ms/step - loss: 0.1412 - accuracy: 0.9696 - val_loss: 0.2538 - val_accuracy: 0.9064\n",
      "Epoch 34/35\n",
      "16/16 [==============================] - 15s 950ms/step - loss: 0.1360 - accuracy: 0.9705 - val_loss: 0.2591 - val_accuracy: 0.9081\n",
      "Epoch 35/35\n",
      "16/16 [==============================] - 15s 979ms/step - loss: 0.1309 - accuracy: 0.9722 - val_loss: 0.2552 - val_accuracy: 0.9092\n",
      "CPU times: user 47min 23s, sys: 13min 40s, total: 1h 1min 3s\n",
      "Wall time: 8min 13s\n"
     ]
    }
   ],
   "source": [
    "%%time\n",
    "\n",
    "batch_size = 1024\n",
    "epoch = 35\n",
    "\n",
    "history=model.fit(X_train, Y_train, validation_data=(X_test, Y_test),epochs=epoch, batch_size=batch_size, verbose=1)\n"
   ]
  },
  {
   "cell_type": "code",
   "execution_count": 38,
   "id": "3305d932",
   "metadata": {},
   "outputs": [
    {
     "name": "stdout",
     "output_type": "stream",
     "text": [
      "dict_keys(['loss', 'accuracy', 'val_loss', 'val_accuracy'])\n"
     ]
    },
    {
     "data": {
      "image/png": "[encoded data removed]",
      "text/plain": [
       "<Figure size 432x288 with 1 Axes>"
      ]
     },
     "metadata": {
      "needs_background": "light"
     },
     "output_type": "display_data"
    },
    {
     "data": {
      "image/png": "[encoded data removed]",
      "text/plain": [
       "<Figure size 432x288 with 1 Axes>"
      ]
     },
     "metadata": {
      "needs_background": "light"
     },
     "output_type": "display_data"
    }
   ],
   "source": [
    "print(history.history.keys())\n",
    "# summarize history for accuracy\n",
    "plt.plot(history.history['accuracy'])\n",
    "plt.plot(history.history['val_accuracy'])\n",
    "plt.title('model accuracy')\n",
    "plt.ylabel('accuracy')\n",
    "plt.xlabel('epoch')\n",
    "plt.legend(['train', 'test'], loc='upper left')\n",
    "plt.show()\n",
    "# summarize history for loss\n",
    "plt.plot(history.history['loss'])\n",
    "plt.plot(history.history['val_loss'])\n",
    "plt.title('model loss')\n",
    "plt.ylabel('loss')\n",
    "plt.xlabel('epoch')\n",
    "plt.legend(['train', 'test'], loc='upper left')\n",
    "plt.show()"
   ]
  },
  {
   "cell_type": "code",
   "execution_count": 49,
   "id": "2cb451bf",
   "metadata": {},
   "outputs": [
    {
     "name": "stdout",
     "output_type": "stream",
     "text": [
      "-------------Confusion Matrix-----------\n",
      " [[787  82]\n",
      " [ 82 834]] \n",
      "----------------------------------------\n",
      "Test accuracy    0.9081232492997199\n"
     ]
    }
   ],
   "source": [
    "###### Confusion Matrix ##########\n",
    "# cm = confusion_matrix(np.argmax(model.predict(X_test),axis=1) , np.argmax(Y_test,axis=1))\n",
    "# sum = np.sum(cm)\n",
    "# accuracy = (cm[0][0] + cm[1][1])/sum\n",
    "# print('-------------Confusion Matrix-----------\\n', cm,'\\n----------------------------------------')\n",
    "# print('Test accuracy   ',accuracy)\n",
    "\n",
    "cm = confusion_matrix(model.predict(X_test)>0.51 , Y_test)\n",
    "sum = np.sum(cm)\n",
    "accuracy = (cm[0][0] + cm[1][1])/sum\n",
    "print('-------------Confusion Matrix-----------\\n', cm,'\\n----------------------------------------')\n",
    "print('Test accuracy   ',accuracy)"
   ]
  },
  {
   "cell_type": "code",
   "execution_count": 40,
   "id": "7a08c353",
   "metadata": {},
   "outputs": [
    {
     "name": "stdout",
     "output_type": "stream",
     "text": [
      "INFO:tensorflow:Assets written to: ../model/assets\n"
     ]
    }
   ],
   "source": [
    "model.save(\"../model\")"
   ]
  },
  {
   "cell_type": "code",
   "execution_count": 41,
   "id": "864df8cc",
   "metadata": {
    "scrolled": true
   },
   "outputs": [
    {
     "data": {
      "text/plain": [
       "array([[ True],\n",
       "       [False],\n",
       "       [ True],\n",
       "       ...,\n",
       "       [ True],\n",
       "       [False],\n",
       "       [False]])"
      ]
     },
     "execution_count": 41,
     "metadata": {},
     "output_type": "execute_result"
    }
   ],
   "source": [
    "model.predict(X_test) >0.5"
   ]
  },
  {
   "cell_type": "code",
   "execution_count": 42,
   "id": "ae84c6f6",
   "metadata": {},
   "outputs": [
    {
     "data": {
      "text/plain": [
       "array([[0.],\n",
       "       [1.],\n",
       "       [1.],\n",
       "       ...,\n",
       "       [1.],\n",
       "       [0.],\n",
       "       [0.]])"
      ]
     },
     "execution_count": 42,
     "metadata": {},
     "output_type": "execute_result"
    }
   ],
   "source": [
    "Y_test"
   ]
  },
  {
   "cell_type": "code",
   "execution_count": null,
   "id": "a9c26ab9",
   "metadata": {},
   "outputs": [],
   "source": []
  },
  {
   "cell_type": "code",
   "execution_count": null,
   "id": "ecad0326",
   "metadata": {},
   "outputs": [],
   "source": []
  },
  {
   "cell_type": "code",
   "execution_count": null,
   "id": "64b3fca4",
   "metadata": {},
   "outputs": [],
   "source": []
  }
 ],
 "metadata": {
  "kernelspec": {
   "display_name": "Python 3",
   "language": "python",
   "name": "python3"
  },
  "language_info": {
   "codemirror_mode": {
    "name": "ipython",
    "version": 3
   },
   "file_extension": ".py",
   "mimetype": "text/x-python",
   "name": "python",
   "nbconvert_exporter": "python",
   "pygments_lexer": "ipython3",
   "version": "3.8.3"
  }
 },
 "nbformat": 4,
 "nbformat_minor": 5
}
